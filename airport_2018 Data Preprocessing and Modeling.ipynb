{
 "cells": [
  {
   "cell_type": "markdown",
   "id": "f6b696b4",
   "metadata": {},
   "source": [
    "# Preprocessing"
   ]
  },
  {
   "cell_type": "markdown",
   "id": "8d2b4b02",
   "metadata": {},
   "source": [
    "## Libraries and Loading Data"
   ]
  },
  {
   "cell_type": "code",
   "execution_count": 1,
   "id": "edc42baa",
   "metadata": {},
   "outputs": [],
   "source": [
    "import pandas as pd\n",
    "import numpy as np\n",
    "import matplotlib.pyplot as plt\n",
    "%matplotlib inline\n",
    "import seaborn as sns\n",
    "pd.set_option('display.max_columns', None)\n",
    "import datetime, warnings\n",
    "warnings.filterwarnings(\"ignore\")"
   ]
  },
  {
   "cell_type": "code",
   "execution_count": 2,
   "id": "45c3837e",
   "metadata": {},
   "outputs": [
    {
     "data": {
      "text/html": [
       "<div>\n",
       "<style scoped>\n",
       "    .dataframe tbody tr th:only-of-type {\n",
       "        vertical-align: middle;\n",
       "    }\n",
       "\n",
       "    .dataframe tbody tr th {\n",
       "        vertical-align: top;\n",
       "    }\n",
       "\n",
       "    .dataframe thead th {\n",
       "        text-align: right;\n",
       "    }\n",
       "</style>\n",
       "<table border=\"1\" class=\"dataframe\">\n",
       "  <thead>\n",
       "    <tr style=\"text-align: right;\">\n",
       "      <th></th>\n",
       "      <th>FL_DATE</th>\n",
       "      <th>OP_CARRIER</th>\n",
       "      <th>ORIGIN</th>\n",
       "      <th>DEST</th>\n",
       "      <th>CRS_DEP_TIME</th>\n",
       "      <th>DEP_DELAY</th>\n",
       "      <th>TAXI_OUT</th>\n",
       "      <th>WHEELS_OFF</th>\n",
       "      <th>WHEELS_ON</th>\n",
       "      <th>TAXI_IN</th>\n",
       "      <th>CRS_ARR_TIME</th>\n",
       "      <th>ARR_DELAY</th>\n",
       "      <th>CRS_ELAPSED_TIME</th>\n",
       "      <th>ACTUAL_ELAPSED_TIME</th>\n",
       "      <th>AIR_TIME</th>\n",
       "      <th>DISTANCE</th>\n",
       "      <th>DAY</th>\n",
       "      <th>MONTH</th>\n",
       "      <th>MONTH_AB</th>\n",
       "      <th>FLIGHT_STATUS</th>\n",
       "    </tr>\n",
       "  </thead>\n",
       "  <tbody>\n",
       "    <tr>\n",
       "      <th>0</th>\n",
       "      <td>2018-01-01</td>\n",
       "      <td>United Airlines</td>\n",
       "      <td>Newark</td>\n",
       "      <td>Denver</td>\n",
       "      <td>3</td>\n",
       "      <td>-5.0</td>\n",
       "      <td>15.0</td>\n",
       "      <td>3</td>\n",
       "      <td>3</td>\n",
       "      <td>10.0</td>\n",
       "      <td>3</td>\n",
       "      <td>-23.0</td>\n",
       "      <td>268.0</td>\n",
       "      <td>250.0</td>\n",
       "      <td>225.0</td>\n",
       "      <td>1605.0</td>\n",
       "      <td>1</td>\n",
       "      <td>1</td>\n",
       "      <td>Jan</td>\n",
       "      <td>0</td>\n",
       "    </tr>\n",
       "    <tr>\n",
       "      <th>1</th>\n",
       "      <td>2018-01-01</td>\n",
       "      <td>United Airlines</td>\n",
       "      <td>Las Vegas</td>\n",
       "      <td>San Francisco</td>\n",
       "      <td>2</td>\n",
       "      <td>-8.0</td>\n",
       "      <td>11.0</td>\n",
       "      <td>2</td>\n",
       "      <td>3</td>\n",
       "      <td>7.0</td>\n",
       "      <td>3</td>\n",
       "      <td>-24.0</td>\n",
       "      <td>99.0</td>\n",
       "      <td>83.0</td>\n",
       "      <td>65.0</td>\n",
       "      <td>414.0</td>\n",
       "      <td>1</td>\n",
       "      <td>1</td>\n",
       "      <td>Jan</td>\n",
       "      <td>0</td>\n",
       "    </tr>\n",
       "    <tr>\n",
       "      <th>2</th>\n",
       "      <td>2018-01-01</td>\n",
       "      <td>United Airlines</td>\n",
       "      <td>Santa Ana</td>\n",
       "      <td>Denver</td>\n",
       "      <td>3</td>\n",
       "      <td>-5.0</td>\n",
       "      <td>15.0</td>\n",
       "      <td>3</td>\n",
       "      <td>3</td>\n",
       "      <td>5.0</td>\n",
       "      <td>3</td>\n",
       "      <td>-13.0</td>\n",
       "      <td>134.0</td>\n",
       "      <td>126.0</td>\n",
       "      <td>106.0</td>\n",
       "      <td>846.0</td>\n",
       "      <td>1</td>\n",
       "      <td>1</td>\n",
       "      <td>Jan</td>\n",
       "      <td>0</td>\n",
       "    </tr>\n",
       "    <tr>\n",
       "      <th>3</th>\n",
       "      <td>2018-01-01</td>\n",
       "      <td>United Airlines</td>\n",
       "      <td>Fort Myers</td>\n",
       "      <td>Chicago</td>\n",
       "      <td>3</td>\n",
       "      <td>6.0</td>\n",
       "      <td>19.0</td>\n",
       "      <td>3</td>\n",
       "      <td>3</td>\n",
       "      <td>6.0</td>\n",
       "      <td>3</td>\n",
       "      <td>-2.0</td>\n",
       "      <td>190.0</td>\n",
       "      <td>182.0</td>\n",
       "      <td>157.0</td>\n",
       "      <td>1120.0</td>\n",
       "      <td>1</td>\n",
       "      <td>1</td>\n",
       "      <td>Jan</td>\n",
       "      <td>0</td>\n",
       "    </tr>\n",
       "    <tr>\n",
       "      <th>4</th>\n",
       "      <td>2018-01-01</td>\n",
       "      <td>United Airlines</td>\n",
       "      <td>Chicago</td>\n",
       "      <td>Albany</td>\n",
       "      <td>2</td>\n",
       "      <td>20.0</td>\n",
       "      <td>13.0</td>\n",
       "      <td>2</td>\n",
       "      <td>2</td>\n",
       "      <td>10.0</td>\n",
       "      <td>2</td>\n",
       "      <td>14.0</td>\n",
       "      <td>112.0</td>\n",
       "      <td>106.0</td>\n",
       "      <td>83.0</td>\n",
       "      <td>723.0</td>\n",
       "      <td>1</td>\n",
       "      <td>1</td>\n",
       "      <td>Jan</td>\n",
       "      <td>1</td>\n",
       "    </tr>\n",
       "  </tbody>\n",
       "</table>\n",
       "</div>"
      ],
      "text/plain": [
       "      FL_DATE       OP_CARRIER      ORIGIN           DEST  CRS_DEP_TIME  \\\n",
       "0  2018-01-01  United Airlines      Newark         Denver             3   \n",
       "1  2018-01-01  United Airlines   Las Vegas  San Francisco             2   \n",
       "2  2018-01-01  United Airlines   Santa Ana         Denver             3   \n",
       "3  2018-01-01  United Airlines  Fort Myers        Chicago             3   \n",
       "4  2018-01-01  United Airlines     Chicago         Albany             2   \n",
       "\n",
       "   DEP_DELAY  TAXI_OUT  WHEELS_OFF  WHEELS_ON  TAXI_IN  CRS_ARR_TIME  \\\n",
       "0       -5.0      15.0           3          3     10.0             3   \n",
       "1       -8.0      11.0           2          3      7.0             3   \n",
       "2       -5.0      15.0           3          3      5.0             3   \n",
       "3        6.0      19.0           3          3      6.0             3   \n",
       "4       20.0      13.0           2          2     10.0             2   \n",
       "\n",
       "   ARR_DELAY  CRS_ELAPSED_TIME  ACTUAL_ELAPSED_TIME  AIR_TIME  DISTANCE  DAY  \\\n",
       "0      -23.0             268.0                250.0     225.0    1605.0    1   \n",
       "1      -24.0              99.0                 83.0      65.0     414.0    1   \n",
       "2      -13.0             134.0                126.0     106.0     846.0    1   \n",
       "3       -2.0             190.0                182.0     157.0    1120.0    1   \n",
       "4       14.0             112.0                106.0      83.0     723.0    1   \n",
       "\n",
       "   MONTH MONTH_AB  FLIGHT_STATUS  \n",
       "0      1      Jan              0  \n",
       "1      1      Jan              0  \n",
       "2      1      Jan              0  \n",
       "3      1      Jan              0  \n",
       "4      1      Jan              1  "
      ]
     },
     "execution_count": 2,
     "metadata": {},
     "output_type": "execute_result"
    }
   ],
   "source": [
    "df = pd.read_csv('df1.csv', index_col=0)\n",
    "df.head()"
   ]
  },
  {
   "cell_type": "code",
   "execution_count": 3,
   "id": "b8b637c5",
   "metadata": {},
   "outputs": [],
   "source": [
    "df['FL_DATE'] = pd.to_datetime(df['FL_DATE'])\n",
    "df['WEEKDAY'] = df['FL_DATE'].dt.dayofweek"
   ]
  },
  {
   "cell_type": "code",
   "execution_count": 4,
   "id": "56062a24",
   "metadata": {},
   "outputs": [
    {
     "data": {
      "text/plain": [
       "0    1065230\n",
       "4    1055156\n",
       "3    1047643\n",
       "2    1022760\n",
       "1    1010249\n",
       "6    1006194\n",
       "5     864585\n",
       "Name: WEEKDAY, dtype: int64"
      ]
     },
     "execution_count": 4,
     "metadata": {},
     "output_type": "execute_result"
    }
   ],
   "source": [
    "df.WEEKDAY.value_counts()"
   ]
  },
  {
   "cell_type": "markdown",
   "id": "bc09dac3",
   "metadata": {},
   "source": [
    "## Preprocessing\n",
    "\n",
    "Even though a lot of pre-processing and cleaning has been done on a separate notebook, this one will be only aiming to obtain a final dataframe for the modeling which will have the top 20 cities only. The reason to do it this way is because the DEST feature is a categorical column of 358 values. The hot encoding will then be done for this 20 instead of the 358 total destinations."
   ]
  },
  {
   "cell_type": "code",
   "execution_count": 5,
   "id": "11e0cca2",
   "metadata": {},
   "outputs": [
    {
     "data": {
      "text/html": [
       "<div>\n",
       "<style scoped>\n",
       "    .dataframe tbody tr th:only-of-type {\n",
       "        vertical-align: middle;\n",
       "    }\n",
       "\n",
       "    .dataframe tbody tr th {\n",
       "        vertical-align: top;\n",
       "    }\n",
       "\n",
       "    .dataframe thead th {\n",
       "        text-align: right;\n",
       "    }\n",
       "</style>\n",
       "<table border=\"1\" class=\"dataframe\">\n",
       "  <thead>\n",
       "    <tr style=\"text-align: right;\">\n",
       "      <th></th>\n",
       "      <th>DEST</th>\n",
       "      <th>TOTAL_FLIGHTS</th>\n",
       "    </tr>\n",
       "  </thead>\n",
       "  <tbody>\n",
       "    <tr>\n",
       "      <th>0</th>\n",
       "      <td>Chicago</td>\n",
       "      <td>409000</td>\n",
       "    </tr>\n",
       "    <tr>\n",
       "      <th>1</th>\n",
       "      <td>Atlanta</td>\n",
       "      <td>385942</td>\n",
       "    </tr>\n",
       "    <tr>\n",
       "      <th>2</th>\n",
       "      <td>New York</td>\n",
       "      <td>287618</td>\n",
       "    </tr>\n",
       "    <tr>\n",
       "      <th>3</th>\n",
       "      <td>Dallas-Fort Worth</td>\n",
       "      <td>272075</td>\n",
       "    </tr>\n",
       "    <tr>\n",
       "      <th>4</th>\n",
       "      <td>Denver</td>\n",
       "      <td>233410</td>\n",
       "    </tr>\n",
       "  </tbody>\n",
       "</table>\n",
       "</div>"
      ],
      "text/plain": [
       "                DEST  TOTAL_FLIGHTS\n",
       "0            Chicago         409000\n",
       "1            Atlanta         385942\n",
       "2           New York         287618\n",
       "3  Dallas-Fort Worth         272075\n",
       "4             Denver         233410"
      ]
     },
     "execution_count": 5,
     "metadata": {},
     "output_type": "execute_result"
    }
   ],
   "source": [
    "top_cities = df.DEST.value_counts().iloc[0:20].rename_axis('DEST').reset_index(name='TOTAL_FLIGHTS')\n",
    "top_cities.head()"
   ]
  },
  {
   "cell_type": "code",
   "execution_count": 6,
   "id": "2d235eee",
   "metadata": {},
   "outputs": [
    {
     "data": {
      "text/plain": [
       "array(['Chicago', 'Atlanta', 'New York', 'Dallas-Fort Worth', 'Denver',\n",
       "       'Houston', 'Charlotte', 'Los Angeles', 'Washington',\n",
       "       'San Francisco', 'Phoenix', 'Las Vegas', 'Minneapolis', 'Detroit',\n",
       "       'Boston', 'Seattle', 'Newark', 'Orlando', 'Philadelphia',\n",
       "       'Salt Lake City'], dtype=object)"
      ]
     },
     "execution_count": 6,
     "metadata": {},
     "output_type": "execute_result"
    }
   ],
   "source": [
    "top_cities.DEST.unique()"
   ]
  },
  {
   "cell_type": "code",
   "execution_count": 7,
   "id": "12e7df7f",
   "metadata": {},
   "outputs": [
    {
     "data": {
      "text/plain": [
       "['Chicago',\n",
       " 'Atlanta',\n",
       " 'New York',\n",
       " 'Dallas-Fort Worth',\n",
       " 'Denver',\n",
       " 'Houston',\n",
       " 'Charlotte',\n",
       " 'Los Angeles',\n",
       " 'Washington',\n",
       " 'San Francisco',\n",
       " 'Phoenix',\n",
       " 'Las Vegas',\n",
       " 'Minneapolis',\n",
       " 'Detroit',\n",
       " 'Boston',\n",
       " 'Seattle',\n",
       " 'Newark',\n",
       " 'Orlando',\n",
       " 'Philadelphia',\n",
       " 'Salt Lake City']"
      ]
     },
     "execution_count": 7,
     "metadata": {},
     "output_type": "execute_result"
    }
   ],
   "source": [
    "city_list = top_cities['DEST'].tolist()\n",
    "city_list"
   ]
  },
  {
   "cell_type": "code",
   "execution_count": 8,
   "id": "e6b2c626",
   "metadata": {},
   "outputs": [
    {
     "data": {
      "text/html": [
       "<div>\n",
       "<style scoped>\n",
       "    .dataframe tbody tr th:only-of-type {\n",
       "        vertical-align: middle;\n",
       "    }\n",
       "\n",
       "    .dataframe tbody tr th {\n",
       "        vertical-align: top;\n",
       "    }\n",
       "\n",
       "    .dataframe thead th {\n",
       "        text-align: right;\n",
       "    }\n",
       "</style>\n",
       "<table border=\"1\" class=\"dataframe\">\n",
       "  <thead>\n",
       "    <tr style=\"text-align: right;\">\n",
       "      <th></th>\n",
       "      <th>FL_DATE</th>\n",
       "      <th>OP_CARRIER</th>\n",
       "      <th>ORIGIN</th>\n",
       "      <th>DEST</th>\n",
       "      <th>CRS_DEP_TIME</th>\n",
       "      <th>DEP_DELAY</th>\n",
       "      <th>TAXI_OUT</th>\n",
       "      <th>WHEELS_OFF</th>\n",
       "      <th>WHEELS_ON</th>\n",
       "      <th>TAXI_IN</th>\n",
       "      <th>CRS_ARR_TIME</th>\n",
       "      <th>ARR_DELAY</th>\n",
       "      <th>CRS_ELAPSED_TIME</th>\n",
       "      <th>ACTUAL_ELAPSED_TIME</th>\n",
       "      <th>AIR_TIME</th>\n",
       "      <th>DISTANCE</th>\n",
       "      <th>DAY</th>\n",
       "      <th>MONTH</th>\n",
       "      <th>MONTH_AB</th>\n",
       "      <th>FLIGHT_STATUS</th>\n",
       "      <th>WEEKDAY</th>\n",
       "    </tr>\n",
       "  </thead>\n",
       "  <tbody>\n",
       "    <tr>\n",
       "      <th>0</th>\n",
       "      <td>2018-01-01</td>\n",
       "      <td>United Airlines</td>\n",
       "      <td>Newark</td>\n",
       "      <td>Denver</td>\n",
       "      <td>3</td>\n",
       "      <td>-5.0</td>\n",
       "      <td>15.0</td>\n",
       "      <td>3</td>\n",
       "      <td>3</td>\n",
       "      <td>10.0</td>\n",
       "      <td>3</td>\n",
       "      <td>-23.0</td>\n",
       "      <td>268.0</td>\n",
       "      <td>250.0</td>\n",
       "      <td>225.0</td>\n",
       "      <td>1605.0</td>\n",
       "      <td>1</td>\n",
       "      <td>1</td>\n",
       "      <td>Jan</td>\n",
       "      <td>0</td>\n",
       "      <td>0</td>\n",
       "    </tr>\n",
       "    <tr>\n",
       "      <th>1</th>\n",
       "      <td>2018-01-01</td>\n",
       "      <td>United Airlines</td>\n",
       "      <td>Las Vegas</td>\n",
       "      <td>San Francisco</td>\n",
       "      <td>2</td>\n",
       "      <td>-8.0</td>\n",
       "      <td>11.0</td>\n",
       "      <td>2</td>\n",
       "      <td>3</td>\n",
       "      <td>7.0</td>\n",
       "      <td>3</td>\n",
       "      <td>-24.0</td>\n",
       "      <td>99.0</td>\n",
       "      <td>83.0</td>\n",
       "      <td>65.0</td>\n",
       "      <td>414.0</td>\n",
       "      <td>1</td>\n",
       "      <td>1</td>\n",
       "      <td>Jan</td>\n",
       "      <td>0</td>\n",
       "      <td>0</td>\n",
       "    </tr>\n",
       "    <tr>\n",
       "      <th>2</th>\n",
       "      <td>2018-01-01</td>\n",
       "      <td>United Airlines</td>\n",
       "      <td>Santa Ana</td>\n",
       "      <td>Denver</td>\n",
       "      <td>3</td>\n",
       "      <td>-5.0</td>\n",
       "      <td>15.0</td>\n",
       "      <td>3</td>\n",
       "      <td>3</td>\n",
       "      <td>5.0</td>\n",
       "      <td>3</td>\n",
       "      <td>-13.0</td>\n",
       "      <td>134.0</td>\n",
       "      <td>126.0</td>\n",
       "      <td>106.0</td>\n",
       "      <td>846.0</td>\n",
       "      <td>1</td>\n",
       "      <td>1</td>\n",
       "      <td>Jan</td>\n",
       "      <td>0</td>\n",
       "      <td>0</td>\n",
       "    </tr>\n",
       "    <tr>\n",
       "      <th>3</th>\n",
       "      <td>2018-01-01</td>\n",
       "      <td>United Airlines</td>\n",
       "      <td>Fort Myers</td>\n",
       "      <td>Chicago</td>\n",
       "      <td>3</td>\n",
       "      <td>6.0</td>\n",
       "      <td>19.0</td>\n",
       "      <td>3</td>\n",
       "      <td>3</td>\n",
       "      <td>6.0</td>\n",
       "      <td>3</td>\n",
       "      <td>-2.0</td>\n",
       "      <td>190.0</td>\n",
       "      <td>182.0</td>\n",
       "      <td>157.0</td>\n",
       "      <td>1120.0</td>\n",
       "      <td>1</td>\n",
       "      <td>1</td>\n",
       "      <td>Jan</td>\n",
       "      <td>0</td>\n",
       "      <td>0</td>\n",
       "    </tr>\n",
       "    <tr>\n",
       "      <th>6</th>\n",
       "      <td>2018-01-01</td>\n",
       "      <td>United Airlines</td>\n",
       "      <td>Houston</td>\n",
       "      <td>Las Vegas</td>\n",
       "      <td>2</td>\n",
       "      <td>-3.0</td>\n",
       "      <td>14.0</td>\n",
       "      <td>2</td>\n",
       "      <td>2</td>\n",
       "      <td>6.0</td>\n",
       "      <td>2</td>\n",
       "      <td>-16.0</td>\n",
       "      <td>206.0</td>\n",
       "      <td>193.0</td>\n",
       "      <td>173.0</td>\n",
       "      <td>1222.0</td>\n",
       "      <td>1</td>\n",
       "      <td>1</td>\n",
       "      <td>Jan</td>\n",
       "      <td>0</td>\n",
       "      <td>0</td>\n",
       "    </tr>\n",
       "  </tbody>\n",
       "</table>\n",
       "</div>"
      ],
      "text/plain": [
       "     FL_DATE       OP_CARRIER      ORIGIN           DEST  CRS_DEP_TIME  \\\n",
       "0 2018-01-01  United Airlines      Newark         Denver             3   \n",
       "1 2018-01-01  United Airlines   Las Vegas  San Francisco             2   \n",
       "2 2018-01-01  United Airlines   Santa Ana         Denver             3   \n",
       "3 2018-01-01  United Airlines  Fort Myers        Chicago             3   \n",
       "6 2018-01-01  United Airlines     Houston      Las Vegas             2   \n",
       "\n",
       "   DEP_DELAY  TAXI_OUT  WHEELS_OFF  WHEELS_ON  TAXI_IN  CRS_ARR_TIME  \\\n",
       "0       -5.0      15.0           3          3     10.0             3   \n",
       "1       -8.0      11.0           2          3      7.0             3   \n",
       "2       -5.0      15.0           3          3      5.0             3   \n",
       "3        6.0      19.0           3          3      6.0             3   \n",
       "6       -3.0      14.0           2          2      6.0             2   \n",
       "\n",
       "   ARR_DELAY  CRS_ELAPSED_TIME  ACTUAL_ELAPSED_TIME  AIR_TIME  DISTANCE  DAY  \\\n",
       "0      -23.0             268.0                250.0     225.0    1605.0    1   \n",
       "1      -24.0              99.0                 83.0      65.0     414.0    1   \n",
       "2      -13.0             134.0                126.0     106.0     846.0    1   \n",
       "3       -2.0             190.0                182.0     157.0    1120.0    1   \n",
       "6      -16.0             206.0                193.0     173.0    1222.0    1   \n",
       "\n",
       "   MONTH MONTH_AB  FLIGHT_STATUS  WEEKDAY  \n",
       "0      1      Jan              0        0  \n",
       "1      1      Jan              0        0  \n",
       "2      1      Jan              0        0  \n",
       "3      1      Jan              0        0  \n",
       "6      1      Jan              0        0  "
      ]
     },
     "execution_count": 8,
     "metadata": {},
     "output_type": "execute_result"
    }
   ],
   "source": [
    "boolean_series = df.DEST.isin(city_list)\n",
    "dfm = df[boolean_series]\n",
    "dfm.head()"
   ]
  },
  {
   "cell_type": "code",
   "execution_count": 9,
   "id": "4310a1f8",
   "metadata": {},
   "outputs": [
    {
     "data": {
      "text/plain": [
       "(4057931, 21)"
      ]
     },
     "execution_count": 9,
     "metadata": {},
     "output_type": "execute_result"
    }
   ],
   "source": [
    "dfm.shape"
   ]
  },
  {
   "cell_type": "code",
   "execution_count": 10,
   "id": "f16ccfa3",
   "metadata": {},
   "outputs": [
    {
     "name": "stdout",
     "output_type": "stream",
     "text": [
      "<class 'pandas.core.frame.DataFrame'>\n",
      "Int64Index: 4057931 entries, 0 to 7213445\n",
      "Data columns (total 21 columns):\n",
      " #   Column               Dtype         \n",
      "---  ------               -----         \n",
      " 0   FL_DATE              datetime64[ns]\n",
      " 1   OP_CARRIER           object        \n",
      " 2   ORIGIN               object        \n",
      " 3   DEST                 object        \n",
      " 4   CRS_DEP_TIME         int64         \n",
      " 5   DEP_DELAY            float64       \n",
      " 6   TAXI_OUT             float64       \n",
      " 7   WHEELS_OFF           int64         \n",
      " 8   WHEELS_ON            int64         \n",
      " 9   TAXI_IN              float64       \n",
      " 10  CRS_ARR_TIME         int64         \n",
      " 11  ARR_DELAY            float64       \n",
      " 12  CRS_ELAPSED_TIME     float64       \n",
      " 13  ACTUAL_ELAPSED_TIME  float64       \n",
      " 14  AIR_TIME             float64       \n",
      " 15  DISTANCE             float64       \n",
      " 16  DAY                  int64         \n",
      " 17  MONTH                int64         \n",
      " 18  MONTH_AB             object        \n",
      " 19  FLIGHT_STATUS        int64         \n",
      " 20  WEEKDAY              int64         \n",
      "dtypes: datetime64[ns](1), float64(8), int64(8), object(4)\n",
      "memory usage: 681.1+ MB\n"
     ]
    }
   ],
   "source": [
    "dfm.info()"
   ]
  },
  {
   "cell_type": "markdown",
   "id": "611a5c0e",
   "metadata": {},
   "source": [
    "> Dropping unwanted features"
   ]
  },
  {
   "cell_type": "code",
   "execution_count": 11,
   "id": "bf220d08",
   "metadata": {},
   "outputs": [],
   "source": [
    "dfm.drop(columns=['FL_DATE', 'MONTH_AB'],inplace = True)"
   ]
  },
  {
   "cell_type": "code",
   "execution_count": 12,
   "id": "d999fead",
   "metadata": {},
   "outputs": [
    {
     "data": {
      "image/png": "[encoded data removed]",
      "text/plain": [
       "<Figure size 1440x1008 with 2 Axes>"
      ]
     },
     "metadata": {
      "needs_background": "light"
     },
     "output_type": "display_data"
    }
   ],
   "source": [
    "plt.figure(figsize=(20,14))\n",
    "ax = sns.heatmap(dfm.corr(), cmap='viridis', center=0, annot=True)"
   ]
  },
  {
   "cell_type": "markdown",
   "id": "90a688d7",
   "metadata": {},
   "source": [
    "### FEATURES HAVING COLLINEARITY\n",
    "* DEP_DELAY AND ARR_DELAY ARE HAVING COLLINEARITY\n",
    "* CRS_ELAPSED_TIME,ACTUAL_ELAPSED_TIME,AIR_TIME,DIOSTANCE ARE HAVING COLLINEARITY\n",
    "* CRS_DEPTIME AND WHEELS_OFF \n",
    "* WHEELS_ON AND CRS_ARRTIME\n"
   ]
  },
  {
   "cell_type": "code",
   "execution_count": 13,
   "id": "10ca832e",
   "metadata": {},
   "outputs": [],
   "source": [
    "# lets keep only one Feature to decrease dimensions and reduce collinearity\n",
    "dfm.drop(['ACTUAL_ELAPSED_TIME','AIR_TIME','DISTANCE'],axis = 1, inplace = True)\n",
    "# others are categorical features so lets remove remaining after analysis"
   ]
  },
  {
   "cell_type": "code",
   "execution_count": 14,
   "id": "4581942a",
   "metadata": {},
   "outputs": [
    {
     "name": "stdout",
     "output_type": "stream",
     "text": [
      "<class 'pandas.core.frame.DataFrame'>\n",
      "Int64Index: 4057931 entries, 0 to 7213445\n",
      "Data columns (total 16 columns):\n",
      " #   Column            Dtype  \n",
      "---  ------            -----  \n",
      " 0   OP_CARRIER        object \n",
      " 1   ORIGIN            object \n",
      " 2   DEST              object \n",
      " 3   CRS_DEP_TIME      int64  \n",
      " 4   DEP_DELAY         float64\n",
      " 5   TAXI_OUT          float64\n",
      " 6   WHEELS_OFF        int64  \n",
      " 7   WHEELS_ON         int64  \n",
      " 8   TAXI_IN           float64\n",
      " 9   CRS_ARR_TIME      int64  \n",
      " 10  ARR_DELAY         float64\n",
      " 11  CRS_ELAPSED_TIME  float64\n",
      " 12  DAY               int64  \n",
      " 13  MONTH             int64  \n",
      " 14  FLIGHT_STATUS     int64  \n",
      " 15  WEEKDAY           int64  \n",
      "dtypes: float64(5), int64(8), object(3)\n",
      "memory usage: 526.3+ MB\n"
     ]
    }
   ],
   "source": [
    "dfm.info()"
   ]
  },
  {
   "cell_type": "code",
   "execution_count": 15,
   "id": "12f1208b",
   "metadata": {},
   "outputs": [
    {
     "data": {
      "text/plain": [
       "0    2932183\n",
       "1    1125748\n",
       "Name: FLIGHT_STATUS, dtype: int64"
      ]
     },
     "execution_count": 15,
     "metadata": {},
     "output_type": "execute_result"
    }
   ],
   "source": [
    "dfm['FLIGHT_STATUS'].value_counts()"
   ]
  },
  {
   "cell_type": "code",
   "execution_count": 16,
   "id": "a5f9f69e",
   "metadata": {},
   "outputs": [
    {
     "data": {
      "text/plain": [
       "<AxesSubplot:>"
      ]
     },
     "execution_count": 16,
     "metadata": {},
     "output_type": "execute_result"
    },
    {
     "data": {
      "image/png": "[encoded data removed]",
      "text/plain": [
       "<Figure size 432x288 with 1 Axes>"
      ]
     },
     "metadata": {
      "needs_background": "light"
     },
     "output_type": "display_data"
    }
   ],
   "source": [
    "dfm['FLIGHT_STATUS'].value_counts().plot(kind = 'bar')"
   ]
  },
  {
   "cell_type": "markdown",
   "id": "f132806d",
   "metadata": {},
   "source": [
    "## Categoricals\n",
    "\n",
    "* OP_CARRIER = 18 airlines\n",
    "* ORIGIN = 20 cities\n",
    "* DEST = 20 cities\n",
    "* CRS_DEP_TIME = 4 quarters\n",
    "* CRS_ARR_TIME = 4 quarters\n",
    "* MONTH = 12 months\n",
    "* FLIGHT_STATUS = 2 categories (already dealt with)\n",
    "* WEEKDAY = 7 days (from 0 to 6)"
   ]
  },
  {
   "cell_type": "code",
   "execution_count": 17,
   "id": "6dd3f656",
   "metadata": {},
   "outputs": [
    {
     "data": {
      "image/png": "[encoded data removed]",
      "text/plain": [
       "<Figure size 1152x1008 with 9 Axes>"
      ]
     },
     "metadata": {
      "needs_background": "light"
     },
     "output_type": "display_data"
    }
   ],
   "source": [
    "fig, axes = plt.subplots(nrows=3, ncols=3, figsize=(16,14), sharey=True)\n",
    "\n",
    "categoricals = ['OP_CARRIER', 'DEST', 'CRS_DEP_TIME', 'CRS_ARR_TIME', 'MONTH', 'WEEKDAY', 'WHEELS_OFF', 'WHEELS_ON']\n",
    "\n",
    "for col, ax in zip(categoricals, axes.flatten()):\n",
    "    (dfm.groupby(col).sum()['FLIGHT_STATUS'].sort_values().plot.bar(ax=ax))\n",
    "    \n",
    "    ax.set_title(col)\n",
    "    \n",
    "fig.tight_layout()"
   ]
  },
  {
   "cell_type": "markdown",
   "id": "b2694a20",
   "metadata": {},
   "source": [
    "#### Lets label encode our DESTINATION data because in our EDA also we have seen some destinations are having different avg delay minutes, so lets label encode based on that"
   ]
  },
  {
   "cell_type": "code",
   "execution_count": 18,
   "id": "ae5bf484",
   "metadata": {},
   "outputs": [],
   "source": [
    "test_4 = dfm[['DEST', 'ARR_DELAY']]\n",
    "test_4 = test_4.groupby(['DEST']).mean().reset_index()\n",
    "test_4['LABEL_VALUES'] = test_4['ARR_DELAY'].apply(lambda x : np.round(x))"
   ]
  },
  {
   "cell_type": "code",
   "execution_count": 19,
   "id": "39de5823",
   "metadata": {},
   "outputs": [
    {
     "data": {
      "text/html": [
       "<div>\n",
       "<style scoped>\n",
       "    .dataframe tbody tr th:only-of-type {\n",
       "        vertical-align: middle;\n",
       "    }\n",
       "\n",
       "    .dataframe tbody tr th {\n",
       "        vertical-align: top;\n",
       "    }\n",
       "\n",
       "    .dataframe thead th {\n",
       "        text-align: right;\n",
       "    }\n",
       "</style>\n",
       "<table border=\"1\" class=\"dataframe\">\n",
       "  <thead>\n",
       "    <tr style=\"text-align: right;\">\n",
       "      <th></th>\n",
       "      <th>DEST</th>\n",
       "      <th>ARR_DELAY</th>\n",
       "      <th>LABEL_VALUES</th>\n",
       "    </tr>\n",
       "  </thead>\n",
       "  <tbody>\n",
       "    <tr>\n",
       "      <th>0</th>\n",
       "      <td>Atlanta</td>\n",
       "      <td>2.921392</td>\n",
       "      <td>3.0</td>\n",
       "    </tr>\n",
       "    <tr>\n",
       "      <th>1</th>\n",
       "      <td>Boston</td>\n",
       "      <td>8.679785</td>\n",
       "      <td>9.0</td>\n",
       "    </tr>\n",
       "    <tr>\n",
       "      <th>2</th>\n",
       "      <td>Charlotte</td>\n",
       "      <td>3.035853</td>\n",
       "      <td>3.0</td>\n",
       "    </tr>\n",
       "    <tr>\n",
       "      <th>3</th>\n",
       "      <td>Chicago</td>\n",
       "      <td>7.154714</td>\n",
       "      <td>7.0</td>\n",
       "    </tr>\n",
       "    <tr>\n",
       "      <th>4</th>\n",
       "      <td>Dallas-Fort Worth</td>\n",
       "      <td>6.316821</td>\n",
       "      <td>6.0</td>\n",
       "    </tr>\n",
       "    <tr>\n",
       "      <th>5</th>\n",
       "      <td>Denver</td>\n",
       "      <td>3.132484</td>\n",
       "      <td>3.0</td>\n",
       "    </tr>\n",
       "    <tr>\n",
       "      <th>6</th>\n",
       "      <td>Detroit</td>\n",
       "      <td>1.838890</td>\n",
       "      <td>2.0</td>\n",
       "    </tr>\n",
       "    <tr>\n",
       "      <th>7</th>\n",
       "      <td>Houston</td>\n",
       "      <td>4.236595</td>\n",
       "      <td>4.0</td>\n",
       "    </tr>\n",
       "    <tr>\n",
       "      <th>8</th>\n",
       "      <td>Las Vegas</td>\n",
       "      <td>3.545835</td>\n",
       "      <td>4.0</td>\n",
       "    </tr>\n",
       "    <tr>\n",
       "      <th>9</th>\n",
       "      <td>Los Angeles</td>\n",
       "      <td>1.921933</td>\n",
       "      <td>2.0</td>\n",
       "    </tr>\n",
       "    <tr>\n",
       "      <th>10</th>\n",
       "      <td>Minneapolis</td>\n",
       "      <td>1.052316</td>\n",
       "      <td>1.0</td>\n",
       "    </tr>\n",
       "    <tr>\n",
       "      <th>11</th>\n",
       "      <td>New York</td>\n",
       "      <td>8.532776</td>\n",
       "      <td>9.0</td>\n",
       "    </tr>\n",
       "    <tr>\n",
       "      <th>12</th>\n",
       "      <td>Newark</td>\n",
       "      <td>16.656969</td>\n",
       "      <td>17.0</td>\n",
       "    </tr>\n",
       "    <tr>\n",
       "      <th>13</th>\n",
       "      <td>Orlando</td>\n",
       "      <td>6.846777</td>\n",
       "      <td>7.0</td>\n",
       "    </tr>\n",
       "    <tr>\n",
       "      <th>14</th>\n",
       "      <td>Philadelphia</td>\n",
       "      <td>6.154106</td>\n",
       "      <td>6.0</td>\n",
       "    </tr>\n",
       "    <tr>\n",
       "      <th>15</th>\n",
       "      <td>Phoenix</td>\n",
       "      <td>4.361970</td>\n",
       "      <td>4.0</td>\n",
       "    </tr>\n",
       "    <tr>\n",
       "      <th>16</th>\n",
       "      <td>Salt Lake City</td>\n",
       "      <td>0.665390</td>\n",
       "      <td>1.0</td>\n",
       "    </tr>\n",
       "    <tr>\n",
       "      <th>17</th>\n",
       "      <td>San Francisco</td>\n",
       "      <td>9.431983</td>\n",
       "      <td>9.0</td>\n",
       "    </tr>\n",
       "    <tr>\n",
       "      <th>18</th>\n",
       "      <td>Seattle</td>\n",
       "      <td>2.480287</td>\n",
       "      <td>2.0</td>\n",
       "    </tr>\n",
       "    <tr>\n",
       "      <th>19</th>\n",
       "      <td>Washington</td>\n",
       "      <td>5.322780</td>\n",
       "      <td>5.0</td>\n",
       "    </tr>\n",
       "  </tbody>\n",
       "</table>\n",
       "</div>"
      ],
      "text/plain": [
       "                 DEST  ARR_DELAY  LABEL_VALUES\n",
       "0             Atlanta   2.921392           3.0\n",
       "1              Boston   8.679785           9.0\n",
       "2           Charlotte   3.035853           3.0\n",
       "3             Chicago   7.154714           7.0\n",
       "4   Dallas-Fort Worth   6.316821           6.0\n",
       "5              Denver   3.132484           3.0\n",
       "6             Detroit   1.838890           2.0\n",
       "7             Houston   4.236595           4.0\n",
       "8           Las Vegas   3.545835           4.0\n",
       "9         Los Angeles   1.921933           2.0\n",
       "10        Minneapolis   1.052316           1.0\n",
       "11           New York   8.532776           9.0\n",
       "12             Newark  16.656969          17.0\n",
       "13            Orlando   6.846777           7.0\n",
       "14       Philadelphia   6.154106           6.0\n",
       "15            Phoenix   4.361970           4.0\n",
       "16     Salt Lake City   0.665390           1.0\n",
       "17      San Francisco   9.431983           9.0\n",
       "18            Seattle   2.480287           2.0\n",
       "19         Washington   5.322780           5.0"
      ]
     },
     "execution_count": 19,
     "metadata": {},
     "output_type": "execute_result"
    }
   ],
   "source": [
    "test_4"
   ]
  },
  {
   "cell_type": "code",
   "execution_count": 20,
   "id": "9e776605",
   "metadata": {},
   "outputs": [],
   "source": [
    "dict1 = dict(zip(test_4['DEST'].to_list(),test_4['LABEL_VALUES'].to_list()))"
   ]
  },
  {
   "cell_type": "code",
   "execution_count": 21,
   "id": "34bfcca3",
   "metadata": {},
   "outputs": [],
   "source": [
    "dfm['DEST'] = dfm['DEST'].map(dict1)"
   ]
  },
  {
   "cell_type": "code",
   "execution_count": 22,
   "id": "05dfeb07",
   "metadata": {},
   "outputs": [
    {
     "data": {
      "text/plain": [
       "array([ 3.,  9.,  7.,  4., 17.,  2.,  5.,  1.,  6.])"
      ]
     },
     "execution_count": 22,
     "metadata": {},
     "output_type": "execute_result"
    }
   ],
   "source": [
    "dfm['DEST'].unique()"
   ]
  },
  {
   "cell_type": "code",
   "execution_count": 23,
   "id": "14082414",
   "metadata": {},
   "outputs": [],
   "source": [
    "OP_CARRIER_dummies = pd.get_dummies(dfm['OP_CARRIER'], prefix='OP_CARRIER', drop_first=True)\n",
    "CRS_DEP_TIME_dummies = pd.get_dummies(dfm['CRS_DEP_TIME'], prefix='CRS_DEP_TIME', drop_first=True)\n",
    "CRS_ARR_TIME_dummines = pd.get_dummies(dfm['CRS_ARR_TIME'], prefix='CRS_ARR_TIME', drop_first=True) \n",
    "MONTH_dummies = pd.get_dummies(dfm['MONTH'], prefix='MONTH', drop_first=True)\n",
    "WEEKDAY_dummies = pd.get_dummies(dfm['WEEKDAY'], prefix='WEEKDAY', drop_first=True)"
   ]
  },
  {
   "cell_type": "code",
   "execution_count": 24,
   "id": "10ae4d17",
   "metadata": {},
   "outputs": [],
   "source": [
    "dfm = dfm.drop(['OP_CARRIER', 'ORIGIN', 'CRS_DEP_TIME', 'CRS_ARR_TIME', 'MONTH', 'WEEKDAY', 'WHEELS_OFF', 'WHEELS_ON', 'ARR_DELAY', 'TAXI_IN', 'TAXI_OUT'], axis=1)"
   ]
  },
  {
   "cell_type": "code",
   "execution_count": 25,
   "id": "b6c12db3",
   "metadata": {},
   "outputs": [],
   "source": [
    "dfm = pd.concat([dfm, OP_CARRIER_dummies, CRS_DEP_TIME_dummies, CRS_ARR_TIME_dummines, MONTH_dummies, WEEKDAY_dummies], axis=1)\n"
   ]
  },
  {
   "cell_type": "code",
   "execution_count": 26,
   "id": "bd13b86c",
   "metadata": {},
   "outputs": [
    {
     "data": {
      "text/plain": [
       "(4057931, 45)"
      ]
     },
     "execution_count": 26,
     "metadata": {},
     "output_type": "execute_result"
    }
   ],
   "source": [
    "dfm.shape"
   ]
  },
  {
   "cell_type": "code",
   "execution_count": 27,
   "id": "28538f24",
   "metadata": {},
   "outputs": [
    {
     "name": "stdout",
     "output_type": "stream",
     "text": [
      "<class 'pandas.core.frame.DataFrame'>\n",
      "Int64Index: 4057931 entries, 0 to 7213445\n",
      "Data columns (total 45 columns):\n",
      " #   Column                         Dtype  \n",
      "---  ------                         -----  \n",
      " 0   DEST                           float64\n",
      " 1   DEP_DELAY                      float64\n",
      " 2   CRS_ELAPSED_TIME               float64\n",
      " 3   DAY                            int64  \n",
      " 4   FLIGHT_STATUS                  int64  \n",
      " 5   OP_CARRIER_Allegiant Air       uint8  \n",
      " 6   OP_CARRIER_American Airlines   uint8  \n",
      " 7   OP_CARRIER_Delta Airlines      uint8  \n",
      " 8   OP_CARRIER_Endeavor Air        uint8  \n",
      " 9   OP_CARRIER_Envoy Air           uint8  \n",
      " 10  OP_CARRIER_ExpressJet          uint8  \n",
      " 11  OP_CARRIER_Frontier Airlines   uint8  \n",
      " 12  OP_CARRIER_Hawaiian Airlines   uint8  \n",
      " 13  OP_CARRIER_JetBlue Airways     uint8  \n",
      " 14  OP_CARRIER_Mesa Airline        uint8  \n",
      " 15  OP_CARRIER_PSA Airlines        uint8  \n",
      " 16  OP_CARRIER_Republic Airways    uint8  \n",
      " 17  OP_CARRIER_SkyWest Airlines    uint8  \n",
      " 18  OP_CARRIER_Southwest Airlines  uint8  \n",
      " 19  OP_CARRIER_Spirit Airlines     uint8  \n",
      " 20  OP_CARRIER_United Airlines     uint8  \n",
      " 21  OP_CARRIER_Virgin America      uint8  \n",
      " 22  CRS_DEP_TIME_2                 uint8  \n",
      " 23  CRS_DEP_TIME_3                 uint8  \n",
      " 24  CRS_DEP_TIME_4                 uint8  \n",
      " 25  CRS_ARR_TIME_2                 uint8  \n",
      " 26  CRS_ARR_TIME_3                 uint8  \n",
      " 27  CRS_ARR_TIME_4                 uint8  \n",
      " 28  MONTH_2                        uint8  \n",
      " 29  MONTH_3                        uint8  \n",
      " 30  MONTH_4                        uint8  \n",
      " 31  MONTH_5                        uint8  \n",
      " 32  MONTH_6                        uint8  \n",
      " 33  MONTH_7                        uint8  \n",
      " 34  MONTH_8                        uint8  \n",
      " 35  MONTH_9                        uint8  \n",
      " 36  MONTH_10                       uint8  \n",
      " 37  MONTH_11                       uint8  \n",
      " 38  MONTH_12                       uint8  \n",
      " 39  WEEKDAY_1                      uint8  \n",
      " 40  WEEKDAY_2                      uint8  \n",
      " 41  WEEKDAY_3                      uint8  \n",
      " 42  WEEKDAY_4                      uint8  \n",
      " 43  WEEKDAY_5                      uint8  \n",
      " 44  WEEKDAY_6                      uint8  \n",
      "dtypes: float64(3), int64(2), uint8(40)\n",
      "memory usage: 340.6 MB\n"
     ]
    }
   ],
   "source": [
    "dfm.info()"
   ]
  },
  {
   "cell_type": "code",
   "execution_count": 28,
   "id": "33b8642d",
   "metadata": {},
   "outputs": [
    {
     "data": {
      "text/plain": [
       "DEST                             0\n",
       "DEP_DELAY                        0\n",
       "CRS_ELAPSED_TIME                 0\n",
       "DAY                              0\n",
       "FLIGHT_STATUS                    0\n",
       "OP_CARRIER_Allegiant Air         0\n",
       "OP_CARRIER_American Airlines     0\n",
       "OP_CARRIER_Delta Airlines        0\n",
       "OP_CARRIER_Endeavor Air          0\n",
       "OP_CARRIER_Envoy Air             0\n",
       "OP_CARRIER_ExpressJet            0\n",
       "OP_CARRIER_Frontier Airlines     0\n",
       "OP_CARRIER_Hawaiian Airlines     0\n",
       "OP_CARRIER_JetBlue Airways       0\n",
       "OP_CARRIER_Mesa Airline          0\n",
       "OP_CARRIER_PSA Airlines          0\n",
       "OP_CARRIER_Republic Airways      0\n",
       "OP_CARRIER_SkyWest Airlines      0\n",
       "OP_CARRIER_Southwest Airlines    0\n",
       "OP_CARRIER_Spirit Airlines       0\n",
       "OP_CARRIER_United Airlines       0\n",
       "OP_CARRIER_Virgin America        0\n",
       "CRS_DEP_TIME_2                   0\n",
       "CRS_DEP_TIME_3                   0\n",
       "CRS_DEP_TIME_4                   0\n",
       "CRS_ARR_TIME_2                   0\n",
       "CRS_ARR_TIME_3                   0\n",
       "CRS_ARR_TIME_4                   0\n",
       "MONTH_2                          0\n",
       "MONTH_3                          0\n",
       "MONTH_4                          0\n",
       "MONTH_5                          0\n",
       "MONTH_6                          0\n",
       "MONTH_7                          0\n",
       "MONTH_8                          0\n",
       "MONTH_9                          0\n",
       "MONTH_10                         0\n",
       "MONTH_11                         0\n",
       "MONTH_12                         0\n",
       "WEEKDAY_1                        0\n",
       "WEEKDAY_2                        0\n",
       "WEEKDAY_3                        0\n",
       "WEEKDAY_4                        0\n",
       "WEEKDAY_5                        0\n",
       "WEEKDAY_6                        0\n",
       "dtype: int64"
      ]
     },
     "execution_count": 28,
     "metadata": {},
     "output_type": "execute_result"
    }
   ],
   "source": [
    "dfm.isna().sum()"
   ]
  },
  {
   "cell_type": "code",
   "execution_count": 37,
   "id": "a4014f8f",
   "metadata": {},
   "outputs": [],
   "source": [
    "#dfm.to_csv(\"dfm.csv\", index=False, encoding=\"utf-8\")"
   ]
  },
  {
   "cell_type": "code",
   "execution_count": 42,
   "id": "8e65751d",
   "metadata": {},
   "outputs": [
    {
     "data": {
      "text/plain": [
       "(4057931, 45)"
      ]
     },
     "execution_count": 42,
     "metadata": {},
     "output_type": "execute_result"
    }
   ],
   "source": [
    "dfm.shape"
   ]
  },
  {
   "cell_type": "markdown",
   "id": "944eecd1",
   "metadata": {},
   "source": [
    "## MODEL BUILDING\n",
    "\n",
    "* I have tried so many times using ~5 million records but it is near impossible to train these many record so taking a sample from our parent dataset"
   ]
  },
  {
   "cell_type": "code",
   "execution_count": 43,
   "id": "7c425cda",
   "metadata": {},
   "outputs": [],
   "source": [
    "df_sample = dfm.sample(n=1000000, random_state=42)"
   ]
  },
  {
   "cell_type": "code",
   "execution_count": 87,
   "id": "ea6bd81d",
   "metadata": {},
   "outputs": [
    {
     "data": {
      "text/plain": [
       "0    0.723107\n",
       "1    0.276893\n",
       "Name: FLIGHT_STATUS, dtype: float64"
      ]
     },
     "execution_count": 87,
     "metadata": {},
     "output_type": "execute_result"
    }
   ],
   "source": [
    "df_sample['FLIGHT_STATUS'].value_counts(normalize = True)"
   ]
  },
  {
   "cell_type": "markdown",
   "id": "163cd435",
   "metadata": {},
   "source": [
    "> Here we can observe the percentage of our target is same so llets continue with this dataset"
   ]
  },
  {
   "cell_type": "code",
   "execution_count": 32,
   "id": "76c0ef2c",
   "metadata": {},
   "outputs": [],
   "source": [
    "import pandas as pd\n",
    "from sklearn.linear_model import LogisticRegression\n",
    "from sklearn.ensemble import RandomForestClassifier, GradientBoostingClassifier\n",
    "from xgboost import XGBClassifier\n",
    "from imblearn.over_sampling import SMOTE\n",
    "from sklearn.model_selection import train_test_split\n",
    "from sklearn.metrics import accuracy_score, precision_score, recall_score, roc_auc_score\n"
   ]
  },
  {
   "cell_type": "code",
   "execution_count": 44,
   "id": "7324af7f",
   "metadata": {},
   "outputs": [],
   "source": [
    "X_train, X_test, y_train, y_test = train_test_split(df_sample.drop('FLIGHT_STATUS', axis=1), df_sample['FLIGHT_STATUS'], test_size=0.3, random_state=42)"
   ]
  },
  {
   "cell_type": "code",
   "execution_count": 45,
   "id": "7740d144",
   "metadata": {},
   "outputs": [],
   "source": [
    "# Define the models to use\n",
    "models = {'Logistic Regression': LogisticRegression(),\n",
    "          'Random Forest Classifier': RandomForestClassifier(),\n",
    "          'Gradient Boosting Classifier': GradientBoostingClassifier(),\n",
    "          'XGBoost Classifier': XGBClassifier()}"
   ]
  },
  {
   "cell_type": "markdown",
   "id": "6d064248",
   "metadata": {},
   "source": [
    "### Logistic Regression"
   ]
  },
  {
   "cell_type": "code",
   "execution_count": 100,
   "id": "3f44cef4",
   "metadata": {},
   "outputs": [
    {
     "data": {
      "text/html": [
       "<div>\n",
       "<style scoped>\n",
       "    .dataframe tbody tr th:only-of-type {\n",
       "        vertical-align: middle;\n",
       "    }\n",
       "\n",
       "    .dataframe tbody tr th {\n",
       "        vertical-align: top;\n",
       "    }\n",
       "\n",
       "    .dataframe thead th {\n",
       "        text-align: right;\n",
       "    }\n",
       "</style>\n",
       "<table border=\"1\" class=\"dataframe\">\n",
       "  <thead>\n",
       "    <tr style=\"text-align: right;\">\n",
       "      <th></th>\n",
       "      <th>Model</th>\n",
       "      <th>Accuracy</th>\n",
       "      <th>Precision</th>\n",
       "      <th>Recall</th>\n",
       "      <th>AUC</th>\n",
       "    </tr>\n",
       "  </thead>\n",
       "  <tbody>\n",
       "    <tr>\n",
       "      <th>0</th>\n",
       "      <td>Logistic Regression</td>\n",
       "      <td>0.875463</td>\n",
       "      <td>0.882872</td>\n",
       "      <td>0.63279</td>\n",
       "      <td>0.800391</td>\n",
       "    </tr>\n",
       "  </tbody>\n",
       "</table>\n",
       "</div>"
      ],
      "text/plain": [
       "                 Model  Accuracy  Precision   Recall       AUC\n",
       "0  Logistic Regression  0.875463   0.882872  0.63279  0.800391"
      ]
     },
     "execution_count": 100,
     "metadata": {},
     "output_type": "execute_result"
    }
   ],
   "source": [
    "# Train and evaluate the models - Logistic Regression\n",
    "model_lr = LogisticRegression()\n",
    "model_lr.fit(X_train, y_train)\n",
    "y_pred_lr = model_lr.predict(X_test)\n",
    "results_lr = {'Model': 'Logistic Regression', \n",
    "              'Accuracy': accuracy_score(y_test, y_pred_lr),\n",
    "              'Precision': precision_score(y_test, y_pred_lr),\n",
    "              'Recall': recall_score(y_test, y_pred_lr),\n",
    "              'AUC': roc_auc_score(y_test, y_pred_lr)}\n",
    "results_df = pd.DataFrame([results_lr])\n",
    "results_df"
   ]
  },
  {
   "cell_type": "markdown",
   "id": "43ea15c1",
   "metadata": {},
   "source": [
    "### RandomForest"
   ]
  },
  {
   "cell_type": "code",
   "execution_count": null,
   "id": "07fe4a41",
   "metadata": {},
   "outputs": [],
   "source": [
    "# Train and evaluate the models - Random Forest Classifier\n",
    "model_rfc = RandomForestClassifier()\n",
    "model_rfc.fit(X_train, y_train)\n",
    "y_pred_rfc = model_rfc.predict(X_test)\n",
    "results_rfc = {'Model': 'Random Forest Classifier', \n",
    "              'Accuracy': accuracy_score(y_test, y_pred_rfc),\n",
    "              'Precision': precision_score(y_test, y_pred_rfc),\n",
    "              'Recall': recall_score(y_test, y_pred_rfc),\n",
    "              'AUC': roc_auc_score(y_test, y_pred_rfc)}\n",
    "results_df = pd.concat([result_df,pd.DataFrame([results_rfc])])\n",
    "result_df"
   ]
  },
  {
   "cell_type": "code",
   "execution_count": 52,
   "id": "4b08fd77",
   "metadata": {},
   "outputs": [
    {
     "data": {
      "text/html": [
       "<div>\n",
       "<style scoped>\n",
       "    .dataframe tbody tr th:only-of-type {\n",
       "        vertical-align: middle;\n",
       "    }\n",
       "\n",
       "    .dataframe tbody tr th {\n",
       "        vertical-align: top;\n",
       "    }\n",
       "\n",
       "    .dataframe thead th {\n",
       "        text-align: right;\n",
       "    }\n",
       "</style>\n",
       "<table border=\"1\" class=\"dataframe\">\n",
       "  <thead>\n",
       "    <tr style=\"text-align: right;\">\n",
       "      <th></th>\n",
       "      <th>Model</th>\n",
       "      <th>Accuracy</th>\n",
       "      <th>Precision</th>\n",
       "      <th>Recall</th>\n",
       "      <th>AUC</th>\n",
       "    </tr>\n",
       "  </thead>\n",
       "  <tbody>\n",
       "    <tr>\n",
       "      <th>0</th>\n",
       "      <td>Random Forest Classifier</td>\n",
       "      <td>0.87366</td>\n",
       "      <td>0.86992</td>\n",
       "      <td>0.637657</td>\n",
       "      <td>0.800651</td>\n",
       "    </tr>\n",
       "  </tbody>\n",
       "</table>\n",
       "</div>"
      ],
      "text/plain": [
       "                      Model  Accuracy  Precision    Recall       AUC\n",
       "0  Random Forest Classifier   0.87366    0.86992  0.637657  0.800651"
      ]
     },
     "execution_count": 52,
     "metadata": {},
     "output_type": "execute_result"
    }
   ],
   "source": [
    "pd.DataFrame([results_rfc])"
   ]
  },
  {
   "cell_type": "markdown",
   "id": "f2017a98",
   "metadata": {},
   "source": [
    "### XGBoost"
   ]
  },
  {
   "cell_type": "code",
   "execution_count": 51,
   "id": "c7dfa563",
   "metadata": {},
   "outputs": [
    {
     "data": {
      "text/html": [
       "<div>\n",
       "<style scoped>\n",
       "    .dataframe tbody tr th:only-of-type {\n",
       "        vertical-align: middle;\n",
       "    }\n",
       "\n",
       "    .dataframe tbody tr th {\n",
       "        vertical-align: top;\n",
       "    }\n",
       "\n",
       "    .dataframe thead th {\n",
       "        text-align: right;\n",
       "    }\n",
       "</style>\n",
       "<table border=\"1\" class=\"dataframe\">\n",
       "  <thead>\n",
       "    <tr style=\"text-align: right;\">\n",
       "      <th></th>\n",
       "      <th>Model</th>\n",
       "      <th>Accuracy</th>\n",
       "      <th>Precision</th>\n",
       "      <th>Recall</th>\n",
       "      <th>AUC</th>\n",
       "    </tr>\n",
       "  </thead>\n",
       "  <tbody>\n",
       "    <tr>\n",
       "      <th>0</th>\n",
       "      <td>XGBoost Classifier</td>\n",
       "      <td>0.877973</td>\n",
       "      <td>0.896722</td>\n",
       "      <td>0.630556</td>\n",
       "      <td>0.801433</td>\n",
       "    </tr>\n",
       "  </tbody>\n",
       "</table>\n",
       "</div>"
      ],
      "text/plain": [
       "                Model  Accuracy  Precision    Recall       AUC\n",
       "0  XGBoost Classifier  0.877973   0.896722  0.630556  0.801433"
      ]
     },
     "execution_count": 51,
     "metadata": {},
     "output_type": "execute_result"
    }
   ],
   "source": [
    "# Train and evaluate the models - XGBoost Classifier\n",
    "model_xgb = XGBClassifier()\n",
    "model_xgb.fit(X_train, y_train)\n",
    "y_pred_xgb = model_xgb.predict(X_test)\n",
    "results_xgb = {'Model': 'XGBoost Classifier', \n",
    "              'Accuracy': accuracy_score(y_test, y_pred_xgb),\n",
    "              'Precision': precision_score(y_test, y_pred_xgb),\n",
    "              'Recall': recall_score(y_test, y_pred_xgb),\n",
    "              'AUC': roc_auc_score(y_test, y_pred_xgb)}\n",
    "results_df_xgb = pd.DataFrame([results_xgb])\n",
    "results_df_xgb"
   ]
  },
  {
   "cell_type": "code",
   "execution_count": 101,
   "id": "5f0b52b0",
   "metadata": {},
   "outputs": [],
   "source": [
    "# Combine the results together to create a table\n",
    "results_df = pd.concat([results_df, pd.DataFrame([results_rfc]), results_df_xgb])"
   ]
  },
  {
   "cell_type": "code",
   "execution_count": 102,
   "id": "98e7286b",
   "metadata": {},
   "outputs": [],
   "source": [
    "results_df.reset_index(drop = True,inplace = True)"
   ]
  },
  {
   "cell_type": "code",
   "execution_count": 103,
   "id": "ac7f6778",
   "metadata": {},
   "outputs": [
    {
     "data": {
      "text/html": [
       "<div>\n",
       "<style scoped>\n",
       "    .dataframe tbody tr th:only-of-type {\n",
       "        vertical-align: middle;\n",
       "    }\n",
       "\n",
       "    .dataframe tbody tr th {\n",
       "        vertical-align: top;\n",
       "    }\n",
       "\n",
       "    .dataframe thead th {\n",
       "        text-align: right;\n",
       "    }\n",
       "</style>\n",
       "<table border=\"1\" class=\"dataframe\">\n",
       "  <thead>\n",
       "    <tr style=\"text-align: right;\">\n",
       "      <th></th>\n",
       "      <th>Model</th>\n",
       "      <th>Accuracy</th>\n",
       "      <th>Precision</th>\n",
       "      <th>Recall</th>\n",
       "      <th>AUC</th>\n",
       "    </tr>\n",
       "  </thead>\n",
       "  <tbody>\n",
       "    <tr>\n",
       "      <th>0</th>\n",
       "      <td>Logistic Regression</td>\n",
       "      <td>0.875463</td>\n",
       "      <td>0.882872</td>\n",
       "      <td>0.632790</td>\n",
       "      <td>0.800391</td>\n",
       "    </tr>\n",
       "    <tr>\n",
       "      <th>1</th>\n",
       "      <td>Random Forest Classifier</td>\n",
       "      <td>0.873660</td>\n",
       "      <td>0.869920</td>\n",
       "      <td>0.637657</td>\n",
       "      <td>0.800651</td>\n",
       "    </tr>\n",
       "    <tr>\n",
       "      <th>2</th>\n",
       "      <td>XGBoost Classifier</td>\n",
       "      <td>0.877973</td>\n",
       "      <td>0.896722</td>\n",
       "      <td>0.630556</td>\n",
       "      <td>0.801433</td>\n",
       "    </tr>\n",
       "  </tbody>\n",
       "</table>\n",
       "</div>"
      ],
      "text/plain": [
       "                      Model  Accuracy  Precision    Recall       AUC\n",
       "0       Logistic Regression  0.875463   0.882872  0.632790  0.800391\n",
       "1  Random Forest Classifier  0.873660   0.869920  0.637657  0.800651\n",
       "2        XGBoost Classifier  0.877973   0.896722  0.630556  0.801433"
      ]
     },
     "execution_count": 103,
     "metadata": {},
     "output_type": "execute_result"
    }
   ],
   "source": [
    "results_df"
   ]
  },
  {
   "cell_type": "markdown",
   "id": "0162e515",
   "metadata": {},
   "source": [
    "# CONCLUSION"
   ]
  },
  {
   "cell_type": "markdown",
   "id": "92e4ad0a",
   "metadata": {},
   "source": [
    "### Every model is performing better among them we can consider XGBOOST as our model"
   ]
  },
  {
   "cell_type": "code",
   "execution_count": 104,
   "id": "0996b934",
   "metadata": {},
   "outputs": [],
   "source": [
    "result_df = results_df.round(2)"
   ]
  },
  {
   "cell_type": "code",
   "execution_count": 105,
   "id": "d78fe6d1",
   "metadata": {},
   "outputs": [
    {
     "data": {
      "image/png": "[encoded data removed]",
      "text/plain": [
       "<Figure size 1080x360 with 1 Axes>"
      ]
     },
     "metadata": {
      "needs_background": "light"
     },
     "output_type": "display_data"
    }
   ],
   "source": [
    "fig, ax = plt.subplots(figsize=(15, 5))\n",
    "ax.axis('off')\n",
    "ax.axis('tight')\n",
    "ax.table(cellText=result_df.values, colLabels=result_df.columns, loc='center')\n",
    "plt.show()"
   ]
  },
  {
   "cell_type": "code",
   "execution_count": 108,
   "id": "e4ebbf2c",
   "metadata": {},
   "outputs": [
    {
     "data": {
      "image/png": "[encoded data removed]",
      "text/plain": [
       "<Figure size 1080x360 with 1 Axes>"
      ]
     },
     "metadata": {
      "needs_background": "light"
     },
     "output_type": "display_data"
    }
   ],
   "source": [
    "plt.figure(figsize = (15,5))\n",
    "importances = model_xgb.feature_importances_\n",
    "feature_names = X_train.columns\n",
    "\n",
    "# Plot feature importances\n",
    "plt.bar(feature_names, importances)\n",
    "plt.xticks(rotation='vertical')\n",
    "plt.show()"
   ]
  },
  {
   "cell_type": "code",
   "execution_count": 111,
   "id": "4df7b429",
   "metadata": {
    "collapsed": true
   },
   "outputs": [],
   "source": [
    "from sklearn.metrics import confusion_matrix\n",
    "conf = confusion_matrix(y_test,y_pred_xgb)"
   ]
  },
  {
   "cell_type": "code",
   "execution_count": 118,
   "id": "11e31e6c",
   "metadata": {},
   "outputs": [
    {
     "data": {
      "text/plain": [
       "array([[211175,   6014],\n",
       "       [ 30594,  52217]], dtype=int64)"
      ]
     },
     "execution_count": 118,
     "metadata": {},
     "output_type": "execute_result"
    }
   ],
   "source": [
    "conf"
   ]
  },
  {
   "cell_type": "code",
   "execution_count": 119,
   "id": "15397680",
   "metadata": {},
   "outputs": [
    {
     "data": {
      "image/png": "[encoded data removed]",
      "text/plain": [
       "<Figure size 432x432 with 1 Axes>"
      ]
     },
     "metadata": {
      "needs_background": "light"
     },
     "output_type": "display_data"
    }
   ],
   "source": [
    "\n",
    "# Define class labels\n",
    "class_labels = ['0', '1']\n",
    "\n",
    "# Create plot\n",
    "fig, ax = plt.subplots(figsize=(6, 6))\n",
    "im = ax.imshow(conf, cmap='Blues')\n",
    "\n",
    "# Add colorbar\n",
    "\n",
    "# Add labels to the plot\n",
    "ax.set_xticks(np.arange(len(class_labels)))\n",
    "ax.set_yticks(np.arange(len(class_labels)))\n",
    "ax.set_xticklabels(class_labels, fontsize=12)\n",
    "ax.set_yticklabels(class_labels, fontsize=12)\n",
    "ax.set_xlabel('Predicted', fontsize=14)\n",
    "ax.set_ylabel('Actual', fontsize=14)\n",
    "\n",
    "# Add text annotations\n",
    "thresh = conf.max() / 2.\n",
    "for i in range(len(class_labels)):\n",
    "    for j in range(len(class_labels)):\n",
    "        ax.text(j, i, format(conf[i, j], 'd'),\n",
    "                ha=\"center\", va=\"center\",\n",
    "                color=\"white\" if conf[i, j] > thresh else \"black\", fontsize=14)\n",
    "\n",
    "# Add title to the plot\n",
    "plt.title('Confusion Matrix', fontsize=16)\n",
    "\n",
    "# Show plot\n",
    "plt.show()\n"
   ]
  }
 ],
 "metadata": {
  "kernelspec": {
   "display_name": "Python 3 (ipykernel)",
   "language": "python",
   "name": "python3"
  },
  "language_info": {
   "codemirror_mode": {
    "name": "ipython",
    "version": 3
   },
   "file_extension": ".py",
   "mimetype": "text/x-python",
   "name": "python",
   "nbconvert_exporter": "python",
   "pygments_lexer": "ipython3",
   "version": "3.9.12"
  }
 },
 "nbformat": 4,
 "nbformat_minor": 5
}
