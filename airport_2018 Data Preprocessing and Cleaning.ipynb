{
 "cells": [
  {
   "cell_type": "markdown",
   "id": "73a2d117",
   "metadata": {},
   "source": [
    "# Data Preprocessing/Cleaning"
   ]
  },
  {
   "cell_type": "markdown",
   "id": "027f511f",
   "metadata": {},
   "source": [
    "Before I start doing this notebook I will define what a delayed flight will be as this will be the principle used to drop or not some of the columns/features that come with this dataset, or to engineer others.\n",
    "\n",
    "* First of all, a delay flight will be a flight that arrives late at its destination\n",
    "* If the flight has any delays from its departure, but still arrives to its destination on time, it will not be considered a delayed flight\n",
    "\n",
    "Furthermore, I will also handle this as a binary classification problem, with a 0 for a arrival on time, and a 1 for delayed arrival."
   ]
  },
  {
   "cell_type": "markdown",
   "id": "4c1624d7",
   "metadata": {},
   "source": [
    "### Glossary\n",
    "FL_DATE = Date of the Flight  \n",
    "OP_CARRIER = Airline Identifier  \n",
    "OP_CARRIER_FL_NUM = Flight Number  \n",
    "ORIGIN = Starting Airport Code  \n",
    "DEST = Destination Airport Code  \n",
    "CRS_DEP_TIME = Planned Departure Time  \n",
    "DEP_TIME = Actual Departure Time  \n",
    "DEP_DELAY = Total Delay on Departure in minutes  \n",
    "TAXI_OUT = The time duration elapsed between departure from the origin airport gate and wheels off  \n",
    "WHEELS_OFF = The time point that the aircraft's wheels leave the ground  \n",
    "WHEELS_ON = The time point that the aircraft'ss wheels touch on the ground  \n",
    "TAXI_IN = The time duration elapsed between wheels-on and gate arrival at the destination airport  \n",
    "CRS_ARR_TIME = Planned arrival time  \n",
    "ARR_TIME = Actual Arrival Time = ARRIVAL_TIME - SCHEDULED_ARRIVAL  \n",
    "ARR_DELAY = Total Delay on Arrival in minutes  \n",
    "CANCELLED = Flight Cancelled (1 = cancelled)  \n",
    "CANCELLATION_CODE = Reason for Cancellation of flight: A - Airline/Carrier; B - Weather; C - National Air System; D - Security  \n",
    "DIVERTED = Aircraft landed on different airport that the one scheduled  \n",
    "CRS_ELAPSED_TIME = Planned time amount needed for the flight trip  \n",
    "ACTUAL_ELAPSED_TIME = AIR_TIME+TAXI_IN+TAXI_OUT  \n",
    "AIR_TIME = The time duration between wheels_off and wheels_on time  \n",
    "DISTANCE = Distance between two airports  \n",
    "CARRIER_DELAY = Delay caused by the airline in minutes  \n",
    "WEATHER_DELAY = Delay caused by weather  \n",
    "NAS_DELAY = Delay caused by air system  \n",
    "SECURITY_DELAY = caused by security reasons  \n",
    "LATE_AIRCRAFT_DELAY = Delay caused by security  "
   ]
  },
  {
   "cell_type": "markdown",
   "id": "77e4955e",
   "metadata": {},
   "source": [
    "## Libraries and Data Loading"
   ]
  },
  {
   "cell_type": "code",
   "execution_count": 15,
   "id": "30abc335",
   "metadata": {},
   "outputs": [],
   "source": [
    "import pandas as pd\n",
    "import numpy as np\n",
    "import matplotlib.pyplot as plt\n",
    "import seaborn as sns\n",
    "%matplotlib inline\n",
    "pd.set_option('display.max_columns',None)\n",
    "pd.set_option('display.max_rows',None)\n",
    "import datetime, scipy , warnings\n",
    "warnings.filterwarnings('ignore')"
   ]
  },
  {
   "cell_type": "code",
   "execution_count": 2,
   "id": "501ab7c5",
   "metadata": {},
   "outputs": [],
   "source": [
    "df1 = pd.read_csv(r'C:\\Users\\USER\\Downloads\\archive\\2018.csv')"
   ]
  },
  {
   "cell_type": "code",
   "execution_count": 3,
   "id": "afca7b3e",
   "metadata": {},
   "outputs": [
    {
     "data": {
      "text/plain": [
       "(7213446, 28)"
      ]
     },
     "execution_count": 3,
     "metadata": {},
     "output_type": "execute_result"
    }
   ],
   "source": [
    "df1.shape"
   ]
  },
  {
   "cell_type": "code",
   "execution_count": 4,
   "id": "9866ce2d",
   "metadata": {},
   "outputs": [
    {
     "data": {
      "text/html": [
       "<div>\n",
       "<style scoped>\n",
       "    .dataframe tbody tr th:only-of-type {\n",
       "        vertical-align: middle;\n",
       "    }\n",
       "\n",
       "    .dataframe tbody tr th {\n",
       "        vertical-align: top;\n",
       "    }\n",
       "\n",
       "    .dataframe thead th {\n",
       "        text-align: right;\n",
       "    }\n",
       "</style>\n",
       "<table border=\"1\" class=\"dataframe\">\n",
       "  <thead>\n",
       "    <tr style=\"text-align: right;\">\n",
       "      <th></th>\n",
       "      <th>FL_DATE</th>\n",
       "      <th>OP_CARRIER</th>\n",
       "      <th>OP_CARRIER_FL_NUM</th>\n",
       "      <th>ORIGIN</th>\n",
       "      <th>DEST</th>\n",
       "      <th>CRS_DEP_TIME</th>\n",
       "      <th>DEP_TIME</th>\n",
       "      <th>DEP_DELAY</th>\n",
       "      <th>TAXI_OUT</th>\n",
       "      <th>WHEELS_OFF</th>\n",
       "      <th>WHEELS_ON</th>\n",
       "      <th>TAXI_IN</th>\n",
       "      <th>CRS_ARR_TIME</th>\n",
       "      <th>ARR_TIME</th>\n",
       "      <th>ARR_DELAY</th>\n",
       "      <th>CANCELLED</th>\n",
       "      <th>CANCELLATION_CODE</th>\n",
       "      <th>DIVERTED</th>\n",
       "      <th>CRS_ELAPSED_TIME</th>\n",
       "      <th>ACTUAL_ELAPSED_TIME</th>\n",
       "      <th>AIR_TIME</th>\n",
       "      <th>DISTANCE</th>\n",
       "      <th>CARRIER_DELAY</th>\n",
       "      <th>WEATHER_DELAY</th>\n",
       "      <th>NAS_DELAY</th>\n",
       "      <th>SECURITY_DELAY</th>\n",
       "      <th>LATE_AIRCRAFT_DELAY</th>\n",
       "      <th>Unnamed: 27</th>\n",
       "    </tr>\n",
       "  </thead>\n",
       "  <tbody>\n",
       "    <tr>\n",
       "      <th>0</th>\n",
       "      <td>2018-01-01</td>\n",
       "      <td>UA</td>\n",
       "      <td>2429</td>\n",
       "      <td>EWR</td>\n",
       "      <td>DEN</td>\n",
       "      <td>1517</td>\n",
       "      <td>1512.0</td>\n",
       "      <td>-5.0</td>\n",
       "      <td>15.0</td>\n",
       "      <td>1527.0</td>\n",
       "      <td>1712.0</td>\n",
       "      <td>10.0</td>\n",
       "      <td>1745</td>\n",
       "      <td>1722.0</td>\n",
       "      <td>-23.0</td>\n",
       "      <td>0.0</td>\n",
       "      <td>NaN</td>\n",
       "      <td>0.0</td>\n",
       "      <td>268.0</td>\n",
       "      <td>250.0</td>\n",
       "      <td>225.0</td>\n",
       "      <td>1605.0</td>\n",
       "      <td>NaN</td>\n",
       "      <td>NaN</td>\n",
       "      <td>NaN</td>\n",
       "      <td>NaN</td>\n",
       "      <td>NaN</td>\n",
       "      <td>NaN</td>\n",
       "    </tr>\n",
       "    <tr>\n",
       "      <th>1</th>\n",
       "      <td>2018-01-01</td>\n",
       "      <td>UA</td>\n",
       "      <td>2427</td>\n",
       "      <td>LAS</td>\n",
       "      <td>SFO</td>\n",
       "      <td>1115</td>\n",
       "      <td>1107.0</td>\n",
       "      <td>-8.0</td>\n",
       "      <td>11.0</td>\n",
       "      <td>1118.0</td>\n",
       "      <td>1223.0</td>\n",
       "      <td>7.0</td>\n",
       "      <td>1254</td>\n",
       "      <td>1230.0</td>\n",
       "      <td>-24.0</td>\n",
       "      <td>0.0</td>\n",
       "      <td>NaN</td>\n",
       "      <td>0.0</td>\n",
       "      <td>99.0</td>\n",
       "      <td>83.0</td>\n",
       "      <td>65.0</td>\n",
       "      <td>414.0</td>\n",
       "      <td>NaN</td>\n",
       "      <td>NaN</td>\n",
       "      <td>NaN</td>\n",
       "      <td>NaN</td>\n",
       "      <td>NaN</td>\n",
       "      <td>NaN</td>\n",
       "    </tr>\n",
       "    <tr>\n",
       "      <th>2</th>\n",
       "      <td>2018-01-01</td>\n",
       "      <td>UA</td>\n",
       "      <td>2426</td>\n",
       "      <td>SNA</td>\n",
       "      <td>DEN</td>\n",
       "      <td>1335</td>\n",
       "      <td>1330.0</td>\n",
       "      <td>-5.0</td>\n",
       "      <td>15.0</td>\n",
       "      <td>1345.0</td>\n",
       "      <td>1631.0</td>\n",
       "      <td>5.0</td>\n",
       "      <td>1649</td>\n",
       "      <td>1636.0</td>\n",
       "      <td>-13.0</td>\n",
       "      <td>0.0</td>\n",
       "      <td>NaN</td>\n",
       "      <td>0.0</td>\n",
       "      <td>134.0</td>\n",
       "      <td>126.0</td>\n",
       "      <td>106.0</td>\n",
       "      <td>846.0</td>\n",
       "      <td>NaN</td>\n",
       "      <td>NaN</td>\n",
       "      <td>NaN</td>\n",
       "      <td>NaN</td>\n",
       "      <td>NaN</td>\n",
       "      <td>NaN</td>\n",
       "    </tr>\n",
       "    <tr>\n",
       "      <th>3</th>\n",
       "      <td>2018-01-01</td>\n",
       "      <td>UA</td>\n",
       "      <td>2425</td>\n",
       "      <td>RSW</td>\n",
       "      <td>ORD</td>\n",
       "      <td>1546</td>\n",
       "      <td>1552.0</td>\n",
       "      <td>6.0</td>\n",
       "      <td>19.0</td>\n",
       "      <td>1611.0</td>\n",
       "      <td>1748.0</td>\n",
       "      <td>6.0</td>\n",
       "      <td>1756</td>\n",
       "      <td>1754.0</td>\n",
       "      <td>-2.0</td>\n",
       "      <td>0.0</td>\n",
       "      <td>NaN</td>\n",
       "      <td>0.0</td>\n",
       "      <td>190.0</td>\n",
       "      <td>182.0</td>\n",
       "      <td>157.0</td>\n",
       "      <td>1120.0</td>\n",
       "      <td>NaN</td>\n",
       "      <td>NaN</td>\n",
       "      <td>NaN</td>\n",
       "      <td>NaN</td>\n",
       "      <td>NaN</td>\n",
       "      <td>NaN</td>\n",
       "    </tr>\n",
       "    <tr>\n",
       "      <th>4</th>\n",
       "      <td>2018-01-01</td>\n",
       "      <td>UA</td>\n",
       "      <td>2424</td>\n",
       "      <td>ORD</td>\n",
       "      <td>ALB</td>\n",
       "      <td>630</td>\n",
       "      <td>650.0</td>\n",
       "      <td>20.0</td>\n",
       "      <td>13.0</td>\n",
       "      <td>703.0</td>\n",
       "      <td>926.0</td>\n",
       "      <td>10.0</td>\n",
       "      <td>922</td>\n",
       "      <td>936.0</td>\n",
       "      <td>14.0</td>\n",
       "      <td>0.0</td>\n",
       "      <td>NaN</td>\n",
       "      <td>0.0</td>\n",
       "      <td>112.0</td>\n",
       "      <td>106.0</td>\n",
       "      <td>83.0</td>\n",
       "      <td>723.0</td>\n",
       "      <td>NaN</td>\n",
       "      <td>NaN</td>\n",
       "      <td>NaN</td>\n",
       "      <td>NaN</td>\n",
       "      <td>NaN</td>\n",
       "      <td>NaN</td>\n",
       "    </tr>\n",
       "  </tbody>\n",
       "</table>\n",
       "</div>"
      ],
      "text/plain": [
       "      FL_DATE OP_CARRIER  OP_CARRIER_FL_NUM ORIGIN DEST  CRS_DEP_TIME  \\\n",
       "0  2018-01-01         UA               2429    EWR  DEN          1517   \n",
       "1  2018-01-01         UA               2427    LAS  SFO          1115   \n",
       "2  2018-01-01         UA               2426    SNA  DEN          1335   \n",
       "3  2018-01-01         UA               2425    RSW  ORD          1546   \n",
       "4  2018-01-01         UA               2424    ORD  ALB           630   \n",
       "\n",
       "   DEP_TIME  DEP_DELAY  TAXI_OUT  WHEELS_OFF  WHEELS_ON  TAXI_IN  \\\n",
       "0    1512.0       -5.0      15.0      1527.0     1712.0     10.0   \n",
       "1    1107.0       -8.0      11.0      1118.0     1223.0      7.0   \n",
       "2    1330.0       -5.0      15.0      1345.0     1631.0      5.0   \n",
       "3    1552.0        6.0      19.0      1611.0     1748.0      6.0   \n",
       "4     650.0       20.0      13.0       703.0      926.0     10.0   \n",
       "\n",
       "   CRS_ARR_TIME  ARR_TIME  ARR_DELAY  CANCELLED CANCELLATION_CODE  DIVERTED  \\\n",
       "0          1745    1722.0      -23.0        0.0               NaN       0.0   \n",
       "1          1254    1230.0      -24.0        0.0               NaN       0.0   \n",
       "2          1649    1636.0      -13.0        0.0               NaN       0.0   \n",
       "3          1756    1754.0       -2.0        0.0               NaN       0.0   \n",
       "4           922     936.0       14.0        0.0               NaN       0.0   \n",
       "\n",
       "   CRS_ELAPSED_TIME  ACTUAL_ELAPSED_TIME  AIR_TIME  DISTANCE  CARRIER_DELAY  \\\n",
       "0             268.0                250.0     225.0    1605.0            NaN   \n",
       "1              99.0                 83.0      65.0     414.0            NaN   \n",
       "2             134.0                126.0     106.0     846.0            NaN   \n",
       "3             190.0                182.0     157.0    1120.0            NaN   \n",
       "4             112.0                106.0      83.0     723.0            NaN   \n",
       "\n",
       "   WEATHER_DELAY  NAS_DELAY  SECURITY_DELAY  LATE_AIRCRAFT_DELAY  Unnamed: 27  \n",
       "0            NaN        NaN             NaN                  NaN          NaN  \n",
       "1            NaN        NaN             NaN                  NaN          NaN  \n",
       "2            NaN        NaN             NaN                  NaN          NaN  \n",
       "3            NaN        NaN             NaN                  NaN          NaN  \n",
       "4            NaN        NaN             NaN                  NaN          NaN  "
      ]
     },
     "execution_count": 4,
     "metadata": {},
     "output_type": "execute_result"
    }
   ],
   "source": [
    "df1.head()"
   ]
  },
  {
   "cell_type": "code",
   "execution_count": 5,
   "id": "f3be05b0",
   "metadata": {},
   "outputs": [
    {
     "name": "stdout",
     "output_type": "stream",
     "text": [
      "<class 'pandas.core.frame.DataFrame'>\n",
      "RangeIndex: 7213446 entries, 0 to 7213445\n",
      "Data columns (total 28 columns):\n",
      " #   Column               Dtype  \n",
      "---  ------               -----  \n",
      " 0   FL_DATE              object \n",
      " 1   OP_CARRIER           object \n",
      " 2   OP_CARRIER_FL_NUM    int64  \n",
      " 3   ORIGIN               object \n",
      " 4   DEST                 object \n",
      " 5   CRS_DEP_TIME         int64  \n",
      " 6   DEP_TIME             float64\n",
      " 7   DEP_DELAY            float64\n",
      " 8   TAXI_OUT             float64\n",
      " 9   WHEELS_OFF           float64\n",
      " 10  WHEELS_ON            float64\n",
      " 11  TAXI_IN              float64\n",
      " 12  CRS_ARR_TIME         int64  \n",
      " 13  ARR_TIME             float64\n",
      " 14  ARR_DELAY            float64\n",
      " 15  CANCELLED            float64\n",
      " 16  CANCELLATION_CODE    object \n",
      " 17  DIVERTED             float64\n",
      " 18  CRS_ELAPSED_TIME     float64\n",
      " 19  ACTUAL_ELAPSED_TIME  float64\n",
      " 20  AIR_TIME             float64\n",
      " 21  DISTANCE             float64\n",
      " 22  CARRIER_DELAY        float64\n",
      " 23  WEATHER_DELAY        float64\n",
      " 24  NAS_DELAY            float64\n",
      " 25  SECURITY_DELAY       float64\n",
      " 26  LATE_AIRCRAFT_DELAY  float64\n",
      " 27  Unnamed: 27          float64\n",
      "dtypes: float64(20), int64(3), object(5)\n",
      "memory usage: 1.5+ GB\n"
     ]
    }
   ],
   "source": [
    "df1.info()"
   ]
  },
  {
   "cell_type": "code",
   "execution_count": 6,
   "id": "d21e7eb5",
   "metadata": {},
   "outputs": [],
   "source": [
    "# Lets name our airlines\n",
    "df1['OP_CARRIER'].replace({\n",
    "    'UA':'United Airlines',\n",
    "    'AS':'Alaska Airlines',\n",
    "    '9E':'Endeavor Air',\n",
    "    'B6':'JetBlue Airways',\n",
    "    'EV':'ExpressJet',\n",
    "    'F9':'Frontier Airlines',\n",
    "    'G4':'Allegiant Air',\n",
    "    'HA':'Hawaiian Airlines',\n",
    "    'MQ':'Envoy Air',\n",
    "    'NK':'Spirit Airlines',\n",
    "    'OH':'PSA Airlines',\n",
    "    'OO':'SkyWest Airlines',\n",
    "    'VX':'Virgin America',\n",
    "    'WN':'Southwest Airlines',\n",
    "    'YV':'Mesa Airline',\n",
    "    'YX':'Republic Airways',\n",
    "    'AA':'American Airlines',\n",
    "    'DL':'Delta Airlines'\n",
    "}, inplace=True)"
   ]
  },
  {
   "cell_type": "code",
   "execution_count": 7,
   "id": "0285506a",
   "metadata": {},
   "outputs": [
    {
     "data": {
      "text/plain": [
       "0.0    7096862\n",
       "1.0     116584\n",
       "Name: CANCELLED, dtype: int64"
      ]
     },
     "execution_count": 7,
     "metadata": {},
     "output_type": "execute_result"
    }
   ],
   "source": [
    "df1['CANCELLED'].value_counts()"
   ]
  },
  {
   "cell_type": "markdown",
   "id": "64698fc5",
   "metadata": {},
   "source": [
    "This is a binary column where number 1 equals a canceled flight, and a 0 not canceled, therefore we can drop the flights that were canceled, equivalent to 116584. Because cancelled flights are not considered to be delayed"
   ]
  },
  {
   "cell_type": "code",
   "execution_count": 9,
   "id": "45215a0b",
   "metadata": {},
   "outputs": [
    {
     "data": {
      "text/html": [
       "<div>\n",
       "<style scoped>\n",
       "    .dataframe tbody tr th:only-of-type {\n",
       "        vertical-align: middle;\n",
       "    }\n",
       "\n",
       "    .dataframe tbody tr th {\n",
       "        vertical-align: top;\n",
       "    }\n",
       "\n",
       "    .dataframe thead th {\n",
       "        text-align: right;\n",
       "    }\n",
       "</style>\n",
       "<table border=\"1\" class=\"dataframe\">\n",
       "  <thead>\n",
       "    <tr style=\"text-align: right;\">\n",
       "      <th></th>\n",
       "      <th>FL_DATE</th>\n",
       "      <th>OP_CARRIER</th>\n",
       "      <th>OP_CARRIER_FL_NUM</th>\n",
       "      <th>ORIGIN</th>\n",
       "      <th>DEST</th>\n",
       "      <th>CRS_DEP_TIME</th>\n",
       "      <th>DEP_TIME</th>\n",
       "      <th>DEP_DELAY</th>\n",
       "      <th>TAXI_OUT</th>\n",
       "      <th>WHEELS_OFF</th>\n",
       "      <th>WHEELS_ON</th>\n",
       "      <th>TAXI_IN</th>\n",
       "      <th>CRS_ARR_TIME</th>\n",
       "      <th>ARR_TIME</th>\n",
       "      <th>ARR_DELAY</th>\n",
       "      <th>CANCELLED</th>\n",
       "      <th>CANCELLATION_CODE</th>\n",
       "      <th>DIVERTED</th>\n",
       "      <th>CRS_ELAPSED_TIME</th>\n",
       "      <th>ACTUAL_ELAPSED_TIME</th>\n",
       "      <th>AIR_TIME</th>\n",
       "      <th>DISTANCE</th>\n",
       "      <th>CARRIER_DELAY</th>\n",
       "      <th>WEATHER_DELAY</th>\n",
       "      <th>NAS_DELAY</th>\n",
       "      <th>SECURITY_DELAY</th>\n",
       "      <th>LATE_AIRCRAFT_DELAY</th>\n",
       "      <th>Unnamed: 27</th>\n",
       "    </tr>\n",
       "  </thead>\n",
       "  <tbody>\n",
       "    <tr>\n",
       "      <th>0</th>\n",
       "      <td>2018-01-01</td>\n",
       "      <td>United Airlines</td>\n",
       "      <td>2429</td>\n",
       "      <td>EWR</td>\n",
       "      <td>DEN</td>\n",
       "      <td>1517</td>\n",
       "      <td>1512.0</td>\n",
       "      <td>-5.0</td>\n",
       "      <td>15.0</td>\n",
       "      <td>1527.0</td>\n",
       "      <td>1712.0</td>\n",
       "      <td>10.0</td>\n",
       "      <td>1745</td>\n",
       "      <td>1722.0</td>\n",
       "      <td>-23.0</td>\n",
       "      <td>0.0</td>\n",
       "      <td>NaN</td>\n",
       "      <td>0.0</td>\n",
       "      <td>268.0</td>\n",
       "      <td>250.0</td>\n",
       "      <td>225.0</td>\n",
       "      <td>1605.0</td>\n",
       "      <td>NaN</td>\n",
       "      <td>NaN</td>\n",
       "      <td>NaN</td>\n",
       "      <td>NaN</td>\n",
       "      <td>NaN</td>\n",
       "      <td>NaN</td>\n",
       "    </tr>\n",
       "    <tr>\n",
       "      <th>1</th>\n",
       "      <td>2018-01-01</td>\n",
       "      <td>United Airlines</td>\n",
       "      <td>2427</td>\n",
       "      <td>LAS</td>\n",
       "      <td>SFO</td>\n",
       "      <td>1115</td>\n",
       "      <td>1107.0</td>\n",
       "      <td>-8.0</td>\n",
       "      <td>11.0</td>\n",
       "      <td>1118.0</td>\n",
       "      <td>1223.0</td>\n",
       "      <td>7.0</td>\n",
       "      <td>1254</td>\n",
       "      <td>1230.0</td>\n",
       "      <td>-24.0</td>\n",
       "      <td>0.0</td>\n",
       "      <td>NaN</td>\n",
       "      <td>0.0</td>\n",
       "      <td>99.0</td>\n",
       "      <td>83.0</td>\n",
       "      <td>65.0</td>\n",
       "      <td>414.0</td>\n",
       "      <td>NaN</td>\n",
       "      <td>NaN</td>\n",
       "      <td>NaN</td>\n",
       "      <td>NaN</td>\n",
       "      <td>NaN</td>\n",
       "      <td>NaN</td>\n",
       "    </tr>\n",
       "  </tbody>\n",
       "</table>\n",
       "</div>"
      ],
      "text/plain": [
       "      FL_DATE       OP_CARRIER  OP_CARRIER_FL_NUM ORIGIN DEST  CRS_DEP_TIME  \\\n",
       "0  2018-01-01  United Airlines               2429    EWR  DEN          1517   \n",
       "1  2018-01-01  United Airlines               2427    LAS  SFO          1115   \n",
       "\n",
       "   DEP_TIME  DEP_DELAY  TAXI_OUT  WHEELS_OFF  WHEELS_ON  TAXI_IN  \\\n",
       "0    1512.0       -5.0      15.0      1527.0     1712.0     10.0   \n",
       "1    1107.0       -8.0      11.0      1118.0     1223.0      7.0   \n",
       "\n",
       "   CRS_ARR_TIME  ARR_TIME  ARR_DELAY  CANCELLED CANCELLATION_CODE  DIVERTED  \\\n",
       "0          1745    1722.0      -23.0        0.0               NaN       0.0   \n",
       "1          1254    1230.0      -24.0        0.0               NaN       0.0   \n",
       "\n",
       "   CRS_ELAPSED_TIME  ACTUAL_ELAPSED_TIME  AIR_TIME  DISTANCE  CARRIER_DELAY  \\\n",
       "0             268.0                250.0     225.0    1605.0            NaN   \n",
       "1              99.0                 83.0      65.0     414.0            NaN   \n",
       "\n",
       "   WEATHER_DELAY  NAS_DELAY  SECURITY_DELAY  LATE_AIRCRAFT_DELAY  Unnamed: 27  \n",
       "0            NaN        NaN             NaN                  NaN          NaN  \n",
       "1            NaN        NaN             NaN                  NaN          NaN  "
      ]
     },
     "execution_count": 9,
     "metadata": {},
     "output_type": "execute_result"
    }
   ],
   "source": [
    "df1 = df1[df1['CANCELLED'] == 0]\n",
    "df1.head(2)"
   ]
  },
  {
   "cell_type": "code",
   "execution_count": 10,
   "id": "e99c4ace",
   "metadata": {},
   "outputs": [],
   "source": [
    "df1.drop(['CANCELLED'],axis = 1, inplace= True)"
   ]
  },
  {
   "cell_type": "code",
   "execution_count": 11,
   "id": "455db699",
   "metadata": {},
   "outputs": [
    {
     "data": {
      "text/plain": [
       "Series([], Name: CANCELLATION_CODE, dtype: int64)"
      ]
     },
     "execution_count": 11,
     "metadata": {},
     "output_type": "execute_result"
    }
   ],
   "source": [
    "df1['CANCELLATION_CODE'].value_counts()"
   ]
  },
  {
   "cell_type": "code",
   "execution_count": 13,
   "id": "cb6084da",
   "metadata": {},
   "outputs": [
    {
     "data": {
      "text/plain": [
       "Series([], Name: Unnamed: 27, dtype: int64)"
      ]
     },
     "execution_count": 13,
     "metadata": {},
     "output_type": "execute_result"
    }
   ],
   "source": [
    "df1['Unnamed: 27'].value_counts()"
   ]
  },
  {
   "cell_type": "code",
   "execution_count": 15,
   "id": "e26368dc",
   "metadata": {},
   "outputs": [],
   "source": [
    "#So we the 'CANCELLATION_REASON' provided is a empty column so we can drop it and also drop 'Unnamed: 27'\n",
    "df1.drop(['CANCELLATION_CODE','Unnamed: 27'],axis = 1, inplace = True)"
   ]
  },
  {
   "cell_type": "markdown",
   "id": "e8916f7a",
   "metadata": {},
   "source": [
    "### ORIGIN AND DESTINATION AIRPORT\n",
    "These two column have the IATA airports codes for the origin and destination. I will try to change it to a real city name so that I can do flight analysis per city as well as part of the EDA.\n",
    "\n",
    "To retrieve the details for the IATA codes you mentioned from the OpenFlights Airport Database,\n",
    "Lets start by loading the file and by exploring it:"
   ]
  },
  {
   "cell_type": "code",
   "execution_count": 30,
   "id": "75345e6d",
   "metadata": {},
   "outputs": [
    {
     "name": "stdout",
     "output_type": "stream",
     "text": [
      "358\n",
      "358\n"
     ]
    }
   ],
   "source": [
    "print(df1['ORIGIN'].nunique())\n",
    "print(df1['DEST'].nunique())"
   ]
  },
  {
   "cell_type": "code",
   "execution_count": 32,
   "id": "9f02b16f",
   "metadata": {},
   "outputs": [],
   "source": [
    "df1_ORIGIN = df1['ORIGIN'].unique().tolist()\n",
    "df1_DEST = df1['DEST'].unique().tolist()"
   ]
  },
  {
   "cell_type": "code",
   "execution_count": 33,
   "id": "ae9fce68",
   "metadata": {},
   "outputs": [],
   "source": [
    "for i in df1_DEST:\n",
    "    if i not in df1_ORIGIN:\n",
    "        print(i)"
   ]
  },
  {
   "cell_type": "code",
   "execution_count": 34,
   "id": "94078c4d",
   "metadata": {},
   "outputs": [],
   "source": [
    "import pandas as pd\n",
    "\n",
    "# Read the airport data from the CSV file\n",
    "airport_data = pd.read_csv(\"https://raw.githubusercontent.com/jpatokal/openflights/master/data/airports.dat\",\n",
    "                           header=None,\n",
    "                           names=[\"Airport ID\", \"Name\", \"City\", \"Country\", \"IATA\", \"ICAO\", \"Latitude\", \"Longitude\", \"Altitude\", \"Timezone\", \"DST\", \"Tz database time zone\", \"Type\", \"Source\"])\n",
    "\n",
    "# Select the rows with the desired IATA codes\n",
    "\n",
    "selected_airports = airport_data.loc[airport_data['IATA'].isin(df1_ORIGIN)]\n",
    "\n",
    "# Select only the desired columns\n",
    "selected_airports = selected_airports[['IATA','Name', 'City', 'Country', 'Latitude', 'Longitude']]\n",
    "\n",
    "# Print the resulting table\n",
    "airports = pd.DataFrame(selected_airports)\n",
    "airports.reset_index(drop = True,inplace = True)"
   ]
  },
  {
   "cell_type": "code",
   "execution_count": 35,
   "id": "0e7cfa5b",
   "metadata": {},
   "outputs": [
    {
     "name": "stdout",
     "output_type": "stream",
     "text": [
      "IFP\n",
      "EAR\n"
     ]
    }
   ],
   "source": [
    "for code in df1_DEST:\n",
    "    if code not in airports['IATA'].to_list():\n",
    "        print(code)"
   ]
  },
  {
   "cell_type": "code",
   "execution_count": 36,
   "id": "64cb07d9",
   "metadata": {},
   "outputs": [
    {
     "data": {
      "text/html": [
       "<div>\n",
       "<style scoped>\n",
       "    .dataframe tbody tr th:only-of-type {\n",
       "        vertical-align: middle;\n",
       "    }\n",
       "\n",
       "    .dataframe tbody tr th {\n",
       "        vertical-align: top;\n",
       "    }\n",
       "\n",
       "    .dataframe thead th {\n",
       "        text-align: right;\n",
       "    }\n",
       "</style>\n",
       "<table border=\"1\" class=\"dataframe\">\n",
       "  <thead>\n",
       "    <tr style=\"text-align: right;\">\n",
       "      <th></th>\n",
       "      <th>IATA</th>\n",
       "      <th>Name</th>\n",
       "      <th>City</th>\n",
       "      <th>Country</th>\n",
       "      <th>Latitude</th>\n",
       "      <th>Longitude</th>\n",
       "    </tr>\n",
       "  </thead>\n",
       "  <tbody>\n",
       "    <tr>\n",
       "      <th>0</th>\n",
       "      <td>PPG</td>\n",
       "      <td>Pago Pago International Airport</td>\n",
       "      <td>Pago Pago</td>\n",
       "      <td>American Samoa</td>\n",
       "      <td>-14.331000</td>\n",
       "      <td>-170.710007</td>\n",
       "    </tr>\n",
       "    <tr>\n",
       "      <th>1</th>\n",
       "      <td>SPN</td>\n",
       "      <td>Saipan International Airport</td>\n",
       "      <td>Saipan</td>\n",
       "      <td>Northern Mariana Islands</td>\n",
       "      <td>15.119000</td>\n",
       "      <td>145.729004</td>\n",
       "    </tr>\n",
       "    <tr>\n",
       "      <th>2</th>\n",
       "      <td>GUM</td>\n",
       "      <td>Antonio B. Won Pat International Airport</td>\n",
       "      <td>Agana</td>\n",
       "      <td>Guam</td>\n",
       "      <td>13.483400</td>\n",
       "      <td>144.796005</td>\n",
       "    </tr>\n",
       "    <tr>\n",
       "      <th>3</th>\n",
       "      <td>STT</td>\n",
       "      <td>Cyril E. King Airport</td>\n",
       "      <td>St. Thomas</td>\n",
       "      <td>Virgin Islands</td>\n",
       "      <td>18.337299</td>\n",
       "      <td>-64.973396</td>\n",
       "    </tr>\n",
       "    <tr>\n",
       "      <th>4</th>\n",
       "      <td>STX</td>\n",
       "      <td>Henry E Rohlsen Airport</td>\n",
       "      <td>St. Croix Island</td>\n",
       "      <td>Virgin Islands</td>\n",
       "      <td>17.701900</td>\n",
       "      <td>-64.798599</td>\n",
       "    </tr>\n",
       "  </tbody>\n",
       "</table>\n",
       "</div>"
      ],
      "text/plain": [
       "  IATA                                      Name              City  \\\n",
       "0  PPG           Pago Pago International Airport         Pago Pago   \n",
       "1  SPN              Saipan International Airport            Saipan   \n",
       "2  GUM  Antonio B. Won Pat International Airport             Agana   \n",
       "3  STT                     Cyril E. King Airport        St. Thomas   \n",
       "4  STX                   Henry E Rohlsen Airport  St. Croix Island   \n",
       "\n",
       "                    Country   Latitude   Longitude  \n",
       "0            American Samoa -14.331000 -170.710007  \n",
       "1  Northern Mariana Islands  15.119000  145.729004  \n",
       "2                      Guam  13.483400  144.796005  \n",
       "3            Virgin Islands  18.337299  -64.973396  \n",
       "4            Virgin Islands  17.701900  -64.798599  "
      ]
     },
     "execution_count": 36,
     "metadata": {},
     "output_type": "execute_result"
    }
   ],
   "source": [
    "airports.head()"
   ]
  },
  {
   "cell_type": "code",
   "execution_count": 43,
   "id": "ea938435",
   "metadata": {},
   "outputs": [
    {
     "data": {
      "text/html": [
       "<div>\n",
       "<style scoped>\n",
       "    .dataframe tbody tr th:only-of-type {\n",
       "        vertical-align: middle;\n",
       "    }\n",
       "\n",
       "    .dataframe tbody tr th {\n",
       "        vertical-align: top;\n",
       "    }\n",
       "\n",
       "    .dataframe thead th {\n",
       "        text-align: right;\n",
       "    }\n",
       "</style>\n",
       "<table border=\"1\" class=\"dataframe\">\n",
       "  <thead>\n",
       "    <tr style=\"text-align: right;\">\n",
       "      <th></th>\n",
       "      <th>IATA</th>\n",
       "      <th>Name</th>\n",
       "      <th>City</th>\n",
       "      <th>Country</th>\n",
       "      <th>Latitude</th>\n",
       "      <th>Longitude</th>\n",
       "    </tr>\n",
       "  </thead>\n",
       "  <tbody>\n",
       "    <tr>\n",
       "      <th>0</th>\n",
       "      <td>IFP</td>\n",
       "      <td>Laughlin/Bullhead Airport</td>\n",
       "      <td>Bullhead City</td>\n",
       "      <td>United States</td>\n",
       "      <td>35.157398</td>\n",
       "      <td>-114.5590</td>\n",
       "    </tr>\n",
       "    <tr>\n",
       "      <th>1</th>\n",
       "      <td>EAR</td>\n",
       "      <td>Kearney Regional Airport - LRY</td>\n",
       "      <td>Kearney</td>\n",
       "      <td>United States</td>\n",
       "      <td>40.727001</td>\n",
       "      <td>-99.0068</td>\n",
       "    </tr>\n",
       "  </tbody>\n",
       "</table>\n",
       "</div>"
      ],
      "text/plain": [
       "  IATA                            Name           City        Country  \\\n",
       "0  IFP       Laughlin/Bullhead Airport  Bullhead City  United States   \n",
       "1  EAR  Kearney Regional Airport - LRY        Kearney  United States   \n",
       "\n",
       "    Latitude  Longitude  \n",
       "0  35.157398  -114.5590  \n",
       "1  40.727001   -99.0068  "
      ]
     },
     "execution_count": 43,
     "metadata": {},
     "output_type": "execute_result"
    }
   ],
   "source": [
    "data = [\n",
    "    ['IFP', 'Laughlin/Bullhead Airport', 'Bullhead City', 'United States', 35.157398, -114.5590],\n",
    "    ['EAR', 'Kearney Regional Airport - LRY', 'Kearney', 'United States', 40.727001, -99.0068],\n",
    "]\n",
    "\n",
    "temp = pd.DataFrame(data, columns=['IATA', 'Name', 'City', 'Country', 'Latitude', 'Longitude'])\n",
    "\n",
    "temp"
   ]
  },
  {
   "cell_type": "code",
   "execution_count": 45,
   "id": "dcdc6afd",
   "metadata": {},
   "outputs": [],
   "source": [
    "airports = pd.concat([airports, temp], ignore_index=True)"
   ]
  },
  {
   "cell_type": "code",
   "execution_count": 46,
   "id": "b628ebae",
   "metadata": {},
   "outputs": [
    {
     "data": {
      "text/plain": [
       "(358, 6)"
      ]
     },
     "execution_count": 46,
     "metadata": {},
     "output_type": "execute_result"
    }
   ],
   "source": [
    "airports.shape"
   ]
  },
  {
   "cell_type": "code",
   "execution_count": 49,
   "id": "abffff23",
   "metadata": {},
   "outputs": [
    {
     "data": {
      "text/plain": [
       "345"
      ]
     },
     "execution_count": 49,
     "metadata": {},
     "output_type": "execute_result"
    }
   ],
   "source": [
    "airports.City.nunique()"
   ]
  },
  {
   "cell_type": "markdown",
   "id": "e349bd77",
   "metadata": {},
   "source": [
    "There are some cities were repeated. Repeated, means that there are more than 1 airport in 1 city, therefore the number of unique values for CITY should be less than 358,i.e.345 "
   ]
  },
  {
   "cell_type": "markdown",
   "id": "e3057d7e",
   "metadata": {},
   "source": [
    "Now, the next step is to create a dictionary so that I can used it to replace the IATA_CODEs for ORIGIN and DEST on the df1 dataframe:"
   ]
  },
  {
   "cell_type": "code",
   "execution_count": 52,
   "id": "1ebbd946",
   "metadata": {},
   "outputs": [
    {
     "name": "stdout",
     "output_type": "stream",
     "text": [
      "<class 'dict'>\n"
     ]
    }
   ],
   "source": [
    "airport_dict = pd.Series(airports.City.values, index=airports.IATA).to_dict()\n",
    "print(type(airport_dict))"
   ]
  },
  {
   "cell_type": "code",
   "execution_count": 53,
   "id": "db4ea6b3",
   "metadata": {},
   "outputs": [],
   "source": [
    "df1['ORIGIN'].replace(airport_dict, inplace=True)\n",
    "df1['DEST'].replace(airport_dict, inplace=True)"
   ]
  },
  {
   "cell_type": "code",
   "execution_count": 54,
   "id": "c8383e76",
   "metadata": {},
   "outputs": [
    {
     "data": {
      "text/plain": [
       "345"
      ]
     },
     "execution_count": 54,
     "metadata": {},
     "output_type": "execute_result"
    }
   ],
   "source": [
    "df1.ORIGIN.nunique()"
   ]
  },
  {
   "cell_type": "markdown",
   "id": "e352de4d",
   "metadata": {},
   "source": [
    "## Diverted"
   ]
  },
  {
   "cell_type": "markdown",
   "id": "b2203993",
   "metadata": {},
   "source": [
    "As a reminder, a DIVERTED flight is one that the plane has landed in a different airport than the one scheduled. This is normally temporary and the airline has the responsibility of taking passengers to their final destination without any extra cost. Therefore this is considered a delayed flight.\n",
    "\n",
    "By doing a value counts we will see what type of values this feature contains:"
   ]
  },
  {
   "cell_type": "code",
   "execution_count": 55,
   "id": "fc819d59",
   "metadata": {},
   "outputs": [
    {
     "data": {
      "text/plain": [
       "0.0    7079005\n",
       "1.0      17857\n",
       "Name: DIVERTED, dtype: int64"
      ]
     },
     "execution_count": 55,
     "metadata": {},
     "output_type": "execute_result"
    }
   ],
   "source": [
    "df1.DIVERTED.value_counts()"
   ]
  },
  {
   "cell_type": "markdown",
   "id": "48c1e90a",
   "metadata": {},
   "source": [
    "It is clear that this is a binary feature, with 0 and 1, but I'm not sure what neither value means yet so I will need to analyze the entire column. The number of 1(es) is a lot smaller than the 0(es) so probably that is the way to go.\n",
    "\n",
    "I will create a separate dataframe with only the columns where DIVERTED == 1 and then try to understand it based on the flight delays."
   ]
  },
  {
   "cell_type": "code",
   "execution_count": 57,
   "id": "fdd71e2a",
   "metadata": {},
   "outputs": [
    {
     "data": {
      "text/plain": [
       "array([nan])"
      ]
     },
     "execution_count": 57,
     "metadata": {},
     "output_type": "execute_result"
    }
   ],
   "source": [
    "df1[df1['DIVERTED']==1]['ARR_DELAY'].unique()"
   ]
  },
  {
   "cell_type": "code",
   "execution_count": 58,
   "id": "ec8fe257",
   "metadata": {},
   "outputs": [],
   "source": [
    "# So basically there is no information to consider it as if it was delay or not,lets drop the column\n",
    "df1.drop(['DIVERTED'],inplace = True, axis = 1)"
   ]
  },
  {
   "cell_type": "code",
   "execution_count": 59,
   "id": "651dbb36",
   "metadata": {},
   "outputs": [
    {
     "data": {
      "text/plain": [
       "(7096862, 24)"
      ]
     },
     "execution_count": 59,
     "metadata": {},
     "output_type": "execute_result"
    }
   ],
   "source": [
    "df1.shape"
   ]
  },
  {
   "cell_type": "markdown",
   "id": "8149e52b",
   "metadata": {},
   "source": [
    "## Delay Reasons\n",
    "On this section I will deal with 5 columns at the same time that are related:  \n",
    "\n",
    "* CARRIER_DELAY\n",
    "* WEATHER_DELAY\n",
    "* NAS_DELAY\n",
    "* SECURITY_DELAY\n",
    "* LATE_AIRCRAFT_DELAY  \n",
    "\n",
    "These 5 are all reasons for the flights to be delayed. Before I make any decision related to them, let's see how much information is in them first:"
   ]
  },
  {
   "cell_type": "code",
   "execution_count": 60,
   "id": "4f526584",
   "metadata": {},
   "outputs": [
    {
     "name": "stdout",
     "output_type": "stream",
     "text": [
      "5744152\n",
      "5744152\n",
      "5744152\n",
      "5744152\n",
      "5744152\n"
     ]
    }
   ],
   "source": [
    "print(df1.CARRIER_DELAY.isna().sum())\n",
    "print(df1.WEATHER_DELAY.isna().sum())\n",
    "print(df1.NAS_DELAY.isna().sum())\n",
    "print(df1.SECURITY_DELAY.isna().sum())\n",
    "print(df1.LATE_AIRCRAFT_DELAY.isna().sum())"
   ]
  },
  {
   "cell_type": "code",
   "execution_count": 61,
   "id": "cde9cb4e",
   "metadata": {},
   "outputs": [
    {
     "name": "stdout",
     "output_type": "stream",
     "text": [
      "Percentage of valid data: 19.060677803795542\n",
      "Percentage of missing values: 80.93932219620446\n"
     ]
    }
   ],
   "source": [
    "print(\"Percentage of valid data:\", 100 - (df1.CARRIER_DELAY.isna().sum()*100/len(df1)))\n",
    "print(\"Percentage of missing values:\", (df1.CARRIER_DELAY.isna().sum()*100/len(df1)))"
   ]
  },
  {
   "cell_type": "markdown",
   "id": "1702ceba",
   "metadata": {},
   "source": [
    "81% of data is missing and there is only 19% data presentl, Unfortunately this much is not enough to come to conlusions so Iam dropping these columns"
   ]
  },
  {
   "cell_type": "code",
   "execution_count": 62,
   "id": "83540bd5",
   "metadata": {},
   "outputs": [
    {
     "name": "stdout",
     "output_type": "stream",
     "text": [
      "The current shape of df1 is: (7096862, 19)\n"
     ]
    },
    {
     "data": {
      "text/html": [
       "<div>\n",
       "<style scoped>\n",
       "    .dataframe tbody tr th:only-of-type {\n",
       "        vertical-align: middle;\n",
       "    }\n",
       "\n",
       "    .dataframe tbody tr th {\n",
       "        vertical-align: top;\n",
       "    }\n",
       "\n",
       "    .dataframe thead th {\n",
       "        text-align: right;\n",
       "    }\n",
       "</style>\n",
       "<table border=\"1\" class=\"dataframe\">\n",
       "  <thead>\n",
       "    <tr style=\"text-align: right;\">\n",
       "      <th></th>\n",
       "      <th>FL_DATE</th>\n",
       "      <th>OP_CARRIER</th>\n",
       "      <th>OP_CARRIER_FL_NUM</th>\n",
       "      <th>ORIGIN</th>\n",
       "      <th>DEST</th>\n",
       "      <th>CRS_DEP_TIME</th>\n",
       "      <th>DEP_TIME</th>\n",
       "      <th>DEP_DELAY</th>\n",
       "      <th>TAXI_OUT</th>\n",
       "      <th>WHEELS_OFF</th>\n",
       "      <th>WHEELS_ON</th>\n",
       "      <th>TAXI_IN</th>\n",
       "      <th>CRS_ARR_TIME</th>\n",
       "      <th>ARR_TIME</th>\n",
       "      <th>ARR_DELAY</th>\n",
       "      <th>CRS_ELAPSED_TIME</th>\n",
       "      <th>ACTUAL_ELAPSED_TIME</th>\n",
       "      <th>AIR_TIME</th>\n",
       "      <th>DISTANCE</th>\n",
       "    </tr>\n",
       "  </thead>\n",
       "  <tbody>\n",
       "    <tr>\n",
       "      <th>0</th>\n",
       "      <td>2018-01-01</td>\n",
       "      <td>United Airlines</td>\n",
       "      <td>2429</td>\n",
       "      <td>Newark</td>\n",
       "      <td>Denver</td>\n",
       "      <td>1517</td>\n",
       "      <td>1512.0</td>\n",
       "      <td>-5.0</td>\n",
       "      <td>15.0</td>\n",
       "      <td>1527.0</td>\n",
       "      <td>1712.0</td>\n",
       "      <td>10.0</td>\n",
       "      <td>1745</td>\n",
       "      <td>1722.0</td>\n",
       "      <td>-23.0</td>\n",
       "      <td>268.0</td>\n",
       "      <td>250.0</td>\n",
       "      <td>225.0</td>\n",
       "      <td>1605.0</td>\n",
       "    </tr>\n",
       "    <tr>\n",
       "      <th>1</th>\n",
       "      <td>2018-01-01</td>\n",
       "      <td>United Airlines</td>\n",
       "      <td>2427</td>\n",
       "      <td>Las Vegas</td>\n",
       "      <td>San Francisco</td>\n",
       "      <td>1115</td>\n",
       "      <td>1107.0</td>\n",
       "      <td>-8.0</td>\n",
       "      <td>11.0</td>\n",
       "      <td>1118.0</td>\n",
       "      <td>1223.0</td>\n",
       "      <td>7.0</td>\n",
       "      <td>1254</td>\n",
       "      <td>1230.0</td>\n",
       "      <td>-24.0</td>\n",
       "      <td>99.0</td>\n",
       "      <td>83.0</td>\n",
       "      <td>65.0</td>\n",
       "      <td>414.0</td>\n",
       "    </tr>\n",
       "    <tr>\n",
       "      <th>2</th>\n",
       "      <td>2018-01-01</td>\n",
       "      <td>United Airlines</td>\n",
       "      <td>2426</td>\n",
       "      <td>Santa Ana</td>\n",
       "      <td>Denver</td>\n",
       "      <td>1335</td>\n",
       "      <td>1330.0</td>\n",
       "      <td>-5.0</td>\n",
       "      <td>15.0</td>\n",
       "      <td>1345.0</td>\n",
       "      <td>1631.0</td>\n",
       "      <td>5.0</td>\n",
       "      <td>1649</td>\n",
       "      <td>1636.0</td>\n",
       "      <td>-13.0</td>\n",
       "      <td>134.0</td>\n",
       "      <td>126.0</td>\n",
       "      <td>106.0</td>\n",
       "      <td>846.0</td>\n",
       "    </tr>\n",
       "    <tr>\n",
       "      <th>7213443</th>\n",
       "      <td>2018-12-31</td>\n",
       "      <td>American Airlines</td>\n",
       "      <td>1817</td>\n",
       "      <td>Charlotte</td>\n",
       "      <td>Memphis</td>\n",
       "      <td>2015</td>\n",
       "      <td>2010.0</td>\n",
       "      <td>-5.0</td>\n",
       "      <td>36.0</td>\n",
       "      <td>2046.0</td>\n",
       "      <td>2114.0</td>\n",
       "      <td>4.0</td>\n",
       "      <td>2107</td>\n",
       "      <td>2118.0</td>\n",
       "      <td>11.0</td>\n",
       "      <td>112.0</td>\n",
       "      <td>128.0</td>\n",
       "      <td>88.0</td>\n",
       "      <td>511.0</td>\n",
       "    </tr>\n",
       "    <tr>\n",
       "      <th>7213444</th>\n",
       "      <td>2018-12-31</td>\n",
       "      <td>American Airlines</td>\n",
       "      <td>1818</td>\n",
       "      <td>Charlotte</td>\n",
       "      <td>Raleigh-durham</td>\n",
       "      <td>1300</td>\n",
       "      <td>1323.0</td>\n",
       "      <td>23.0</td>\n",
       "      <td>11.0</td>\n",
       "      <td>1334.0</td>\n",
       "      <td>1400.0</td>\n",
       "      <td>4.0</td>\n",
       "      <td>1350</td>\n",
       "      <td>1404.0</td>\n",
       "      <td>14.0</td>\n",
       "      <td>50.0</td>\n",
       "      <td>41.0</td>\n",
       "      <td>26.0</td>\n",
       "      <td>130.0</td>\n",
       "    </tr>\n",
       "    <tr>\n",
       "      <th>7213445</th>\n",
       "      <td>2018-12-31</td>\n",
       "      <td>American Airlines</td>\n",
       "      <td>1818</td>\n",
       "      <td>Raleigh-durham</td>\n",
       "      <td>Charlotte</td>\n",
       "      <td>1435</td>\n",
       "      <td>1443.0</td>\n",
       "      <td>8.0</td>\n",
       "      <td>8.0</td>\n",
       "      <td>1451.0</td>\n",
       "      <td>1535.0</td>\n",
       "      <td>7.0</td>\n",
       "      <td>1546</td>\n",
       "      <td>1542.0</td>\n",
       "      <td>-4.0</td>\n",
       "      <td>71.0</td>\n",
       "      <td>59.0</td>\n",
       "      <td>44.0</td>\n",
       "      <td>130.0</td>\n",
       "    </tr>\n",
       "  </tbody>\n",
       "</table>\n",
       "</div>"
      ],
      "text/plain": [
       "            FL_DATE         OP_CARRIER  OP_CARRIER_FL_NUM          ORIGIN  \\\n",
       "0        2018-01-01    United Airlines               2429          Newark   \n",
       "1        2018-01-01    United Airlines               2427       Las Vegas   \n",
       "2        2018-01-01    United Airlines               2426       Santa Ana   \n",
       "7213443  2018-12-31  American Airlines               1817       Charlotte   \n",
       "7213444  2018-12-31  American Airlines               1818       Charlotte   \n",
       "7213445  2018-12-31  American Airlines               1818  Raleigh-durham   \n",
       "\n",
       "                   DEST  CRS_DEP_TIME  DEP_TIME  DEP_DELAY  TAXI_OUT  \\\n",
       "0                Denver          1517    1512.0       -5.0      15.0   \n",
       "1         San Francisco          1115    1107.0       -8.0      11.0   \n",
       "2                Denver          1335    1330.0       -5.0      15.0   \n",
       "7213443         Memphis          2015    2010.0       -5.0      36.0   \n",
       "7213444  Raleigh-durham          1300    1323.0       23.0      11.0   \n",
       "7213445       Charlotte          1435    1443.0        8.0       8.0   \n",
       "\n",
       "         WHEELS_OFF  WHEELS_ON  TAXI_IN  CRS_ARR_TIME  ARR_TIME  ARR_DELAY  \\\n",
       "0            1527.0     1712.0     10.0          1745    1722.0      -23.0   \n",
       "1            1118.0     1223.0      7.0          1254    1230.0      -24.0   \n",
       "2            1345.0     1631.0      5.0          1649    1636.0      -13.0   \n",
       "7213443      2046.0     2114.0      4.0          2107    2118.0       11.0   \n",
       "7213444      1334.0     1400.0      4.0          1350    1404.0       14.0   \n",
       "7213445      1451.0     1535.0      7.0          1546    1542.0       -4.0   \n",
       "\n",
       "         CRS_ELAPSED_TIME  ACTUAL_ELAPSED_TIME  AIR_TIME  DISTANCE  \n",
       "0                   268.0                250.0     225.0    1605.0  \n",
       "1                    99.0                 83.0      65.0     414.0  \n",
       "2                   134.0                126.0     106.0     846.0  \n",
       "7213443             112.0                128.0      88.0     511.0  \n",
       "7213444              50.0                 41.0      26.0     130.0  \n",
       "7213445              71.0                 59.0      44.0     130.0  "
      ]
     },
     "execution_count": 62,
     "metadata": {},
     "output_type": "execute_result"
    }
   ],
   "source": [
    "df1 = df1.drop(['CARRIER_DELAY', 'WEATHER_DELAY', 'NAS_DELAY', 'SECURITY_DELAY', 'LATE_AIRCRAFT_DELAY'], axis=1)\n",
    "print('The current shape of df1 is:', df1.shape)\n",
    "df1.head(3).append(df1.tail(3))"
   ]
  },
  {
   "cell_type": "markdown",
   "id": "217ccff1",
   "metadata": {},
   "source": [
    "## OP_CARRIER_FL_NUM\n",
    "We do not need this column so also drop this one"
   ]
  },
  {
   "cell_type": "code",
   "execution_count": 63,
   "id": "bca7be4c",
   "metadata": {},
   "outputs": [],
   "source": [
    "df1.drop(['OP_CARRIER_FL_NUM'], axis=1,inplace = True)"
   ]
  },
  {
   "cell_type": "markdown",
   "id": "7ae062e0",
   "metadata": {},
   "source": [
    "## DEP_TIME AND ARR_TIME\n",
    "we are already having dep_delay and arr_delay which are most informative columns, and these columns are derived from dep time and arr time so it is better to drop these columns"
   ]
  },
  {
   "cell_type": "code",
   "execution_count": 64,
   "id": "d39234ca",
   "metadata": {},
   "outputs": [],
   "source": [
    "df1.drop(columns=['DEP_TIME', 'ARR_TIME'], inplace=True)"
   ]
  },
  {
   "cell_type": "code",
   "execution_count": 65,
   "id": "046b4f4d",
   "metadata": {},
   "outputs": [
    {
     "data": {
      "text/plain": [
       "(7096862, 16)"
      ]
     },
     "execution_count": 65,
     "metadata": {},
     "output_type": "execute_result"
    }
   ],
   "source": [
    "df1.shape"
   ]
  },
  {
   "cell_type": "code",
   "execution_count": 66,
   "id": "dfa88199",
   "metadata": {},
   "outputs": [
    {
     "data": {
      "text/html": [
       "<div>\n",
       "<style scoped>\n",
       "    .dataframe tbody tr th:only-of-type {\n",
       "        vertical-align: middle;\n",
       "    }\n",
       "\n",
       "    .dataframe tbody tr th {\n",
       "        vertical-align: top;\n",
       "    }\n",
       "\n",
       "    .dataframe thead th {\n",
       "        text-align: right;\n",
       "    }\n",
       "</style>\n",
       "<table border=\"1\" class=\"dataframe\">\n",
       "  <thead>\n",
       "    <tr style=\"text-align: right;\">\n",
       "      <th></th>\n",
       "      <th>FL_DATE</th>\n",
       "      <th>OP_CARRIER</th>\n",
       "      <th>ORIGIN</th>\n",
       "      <th>DEST</th>\n",
       "      <th>CRS_DEP_TIME</th>\n",
       "      <th>DEP_DELAY</th>\n",
       "      <th>TAXI_OUT</th>\n",
       "      <th>WHEELS_OFF</th>\n",
       "      <th>WHEELS_ON</th>\n",
       "      <th>TAXI_IN</th>\n",
       "      <th>CRS_ARR_TIME</th>\n",
       "      <th>ARR_DELAY</th>\n",
       "      <th>CRS_ELAPSED_TIME</th>\n",
       "      <th>ACTUAL_ELAPSED_TIME</th>\n",
       "      <th>AIR_TIME</th>\n",
       "      <th>DISTANCE</th>\n",
       "    </tr>\n",
       "  </thead>\n",
       "  <tbody>\n",
       "    <tr>\n",
       "      <th>0</th>\n",
       "      <td>2018-01-01</td>\n",
       "      <td>United Airlines</td>\n",
       "      <td>Newark</td>\n",
       "      <td>Denver</td>\n",
       "      <td>1517</td>\n",
       "      <td>-5.0</td>\n",
       "      <td>15.0</td>\n",
       "      <td>1527.0</td>\n",
       "      <td>1712.0</td>\n",
       "      <td>10.0</td>\n",
       "      <td>1745</td>\n",
       "      <td>-23.0</td>\n",
       "      <td>268.0</td>\n",
       "      <td>250.0</td>\n",
       "      <td>225.0</td>\n",
       "      <td>1605.0</td>\n",
       "    </tr>\n",
       "    <tr>\n",
       "      <th>1</th>\n",
       "      <td>2018-01-01</td>\n",
       "      <td>United Airlines</td>\n",
       "      <td>Las Vegas</td>\n",
       "      <td>San Francisco</td>\n",
       "      <td>1115</td>\n",
       "      <td>-8.0</td>\n",
       "      <td>11.0</td>\n",
       "      <td>1118.0</td>\n",
       "      <td>1223.0</td>\n",
       "      <td>7.0</td>\n",
       "      <td>1254</td>\n",
       "      <td>-24.0</td>\n",
       "      <td>99.0</td>\n",
       "      <td>83.0</td>\n",
       "      <td>65.0</td>\n",
       "      <td>414.0</td>\n",
       "    </tr>\n",
       "    <tr>\n",
       "      <th>2</th>\n",
       "      <td>2018-01-01</td>\n",
       "      <td>United Airlines</td>\n",
       "      <td>Santa Ana</td>\n",
       "      <td>Denver</td>\n",
       "      <td>1335</td>\n",
       "      <td>-5.0</td>\n",
       "      <td>15.0</td>\n",
       "      <td>1345.0</td>\n",
       "      <td>1631.0</td>\n",
       "      <td>5.0</td>\n",
       "      <td>1649</td>\n",
       "      <td>-13.0</td>\n",
       "      <td>134.0</td>\n",
       "      <td>126.0</td>\n",
       "      <td>106.0</td>\n",
       "      <td>846.0</td>\n",
       "    </tr>\n",
       "    <tr>\n",
       "      <th>3</th>\n",
       "      <td>2018-01-01</td>\n",
       "      <td>United Airlines</td>\n",
       "      <td>Fort Myers</td>\n",
       "      <td>Chicago</td>\n",
       "      <td>1546</td>\n",
       "      <td>6.0</td>\n",
       "      <td>19.0</td>\n",
       "      <td>1611.0</td>\n",
       "      <td>1748.0</td>\n",
       "      <td>6.0</td>\n",
       "      <td>1756</td>\n",
       "      <td>-2.0</td>\n",
       "      <td>190.0</td>\n",
       "      <td>182.0</td>\n",
       "      <td>157.0</td>\n",
       "      <td>1120.0</td>\n",
       "    </tr>\n",
       "    <tr>\n",
       "      <th>4</th>\n",
       "      <td>2018-01-01</td>\n",
       "      <td>United Airlines</td>\n",
       "      <td>Chicago</td>\n",
       "      <td>Albany</td>\n",
       "      <td>630</td>\n",
       "      <td>20.0</td>\n",
       "      <td>13.0</td>\n",
       "      <td>703.0</td>\n",
       "      <td>926.0</td>\n",
       "      <td>10.0</td>\n",
       "      <td>922</td>\n",
       "      <td>14.0</td>\n",
       "      <td>112.0</td>\n",
       "      <td>106.0</td>\n",
       "      <td>83.0</td>\n",
       "      <td>723.0</td>\n",
       "    </tr>\n",
       "  </tbody>\n",
       "</table>\n",
       "</div>"
      ],
      "text/plain": [
       "      FL_DATE       OP_CARRIER      ORIGIN           DEST  CRS_DEP_TIME  \\\n",
       "0  2018-01-01  United Airlines      Newark         Denver          1517   \n",
       "1  2018-01-01  United Airlines   Las Vegas  San Francisco          1115   \n",
       "2  2018-01-01  United Airlines   Santa Ana         Denver          1335   \n",
       "3  2018-01-01  United Airlines  Fort Myers        Chicago          1546   \n",
       "4  2018-01-01  United Airlines     Chicago         Albany           630   \n",
       "\n",
       "   DEP_DELAY  TAXI_OUT  WHEELS_OFF  WHEELS_ON  TAXI_IN  CRS_ARR_TIME  \\\n",
       "0       -5.0      15.0      1527.0     1712.0     10.0          1745   \n",
       "1       -8.0      11.0      1118.0     1223.0      7.0          1254   \n",
       "2       -5.0      15.0      1345.0     1631.0      5.0          1649   \n",
       "3        6.0      19.0      1611.0     1748.0      6.0          1756   \n",
       "4       20.0      13.0       703.0      926.0     10.0           922   \n",
       "\n",
       "   ARR_DELAY  CRS_ELAPSED_TIME  ACTUAL_ELAPSED_TIME  AIR_TIME  DISTANCE  \n",
       "0      -23.0             268.0                250.0     225.0    1605.0  \n",
       "1      -24.0              99.0                 83.0      65.0     414.0  \n",
       "2      -13.0             134.0                126.0     106.0     846.0  \n",
       "3       -2.0             190.0                182.0     157.0    1120.0  \n",
       "4       14.0             112.0                106.0      83.0     723.0  "
      ]
     },
     "execution_count": 66,
     "metadata": {},
     "output_type": "execute_result"
    }
   ],
   "source": [
    "df1.head()"
   ]
  },
  {
   "cell_type": "code",
   "execution_count": 67,
   "id": "a6072821",
   "metadata": {},
   "outputs": [],
   "source": [
    "df1.to_csv('df1.csv')"
   ]
  },
  {
   "cell_type": "markdown",
   "id": "227842ca",
   "metadata": {},
   "source": [
    "### Dealing with Missing Values - NaN\n"
   ]
  },
  {
   "cell_type": "code",
   "execution_count": 23,
   "id": "5a6c5e67",
   "metadata": {},
   "outputs": [],
   "source": [
    "import pandas as pd\n",
    "df1 = pd.read_csv('df1.csv',index_col = 0)"
   ]
  },
  {
   "cell_type": "code",
   "execution_count": 24,
   "id": "ce73bada",
   "metadata": {},
   "outputs": [
    {
     "name": "stdout",
     "output_type": "stream",
     "text": [
      "<class 'pandas.core.frame.DataFrame'>\n",
      "Int64Index: 7096862 entries, 0 to 7213445\n",
      "Data columns (total 16 columns):\n",
      " #   Column               Dtype  \n",
      "---  ------               -----  \n",
      " 0   FL_DATE              object \n",
      " 1   OP_CARRIER           object \n",
      " 2   ORIGIN               object \n",
      " 3   DEST                 object \n",
      " 4   CRS_DEP_TIME         int64  \n",
      " 5   DEP_DELAY            float64\n",
      " 6   TAXI_OUT             float64\n",
      " 7   WHEELS_OFF           float64\n",
      " 8   WHEELS_ON            float64\n",
      " 9   TAXI_IN              float64\n",
      " 10  CRS_ARR_TIME         int64  \n",
      " 11  ARR_DELAY            float64\n",
      " 12  CRS_ELAPSED_TIME     float64\n",
      " 13  ACTUAL_ELAPSED_TIME  float64\n",
      " 14  AIR_TIME             float64\n",
      " 15  DISTANCE             float64\n",
      "dtypes: float64(10), int64(2), object(4)\n",
      "memory usage: 920.5+ MB\n"
     ]
    }
   ],
   "source": [
    "df1.info()"
   ]
  },
  {
   "cell_type": "code",
   "execution_count": 25,
   "id": "6c51ecd5",
   "metadata": {},
   "outputs": [
    {
     "data": {
      "text/plain": [
       "FL_DATE                    0\n",
       "OP_CARRIER                 0\n",
       "ORIGIN                     0\n",
       "DEST                       0\n",
       "CRS_DEP_TIME               0\n",
       "DEP_DELAY               4743\n",
       "TAXI_OUT                   0\n",
       "WHEELS_OFF                 0\n",
       "WHEELS_ON               2662\n",
       "TAXI_IN                 2662\n",
       "CRS_ARR_TIME               0\n",
       "ARR_DELAY              20456\n",
       "CRS_ELAPSED_TIME           7\n",
       "ACTUAL_ELAPSED_TIME    17858\n",
       "AIR_TIME               17858\n",
       "DISTANCE                   0\n",
       "dtype: int64"
      ]
     },
     "execution_count": 25,
     "metadata": {},
     "output_type": "execute_result"
    }
   ],
   "source": [
    "df1.isna().sum()"
   ]
  },
  {
   "cell_type": "code",
   "execution_count": 26,
   "id": "404e69a7",
   "metadata": {},
   "outputs": [
    {
     "name": "stdout",
     "output_type": "stream",
     "text": [
      "(25045, 16)\n"
     ]
    },
    {
     "data": {
      "text/html": [
       "<div>\n",
       "<style scoped>\n",
       "    .dataframe tbody tr th:only-of-type {\n",
       "        vertical-align: middle;\n",
       "    }\n",
       "\n",
       "    .dataframe tbody tr th {\n",
       "        vertical-align: top;\n",
       "    }\n",
       "\n",
       "    .dataframe thead th {\n",
       "        text-align: right;\n",
       "    }\n",
       "</style>\n",
       "<table border=\"1\" class=\"dataframe\">\n",
       "  <thead>\n",
       "    <tr style=\"text-align: right;\">\n",
       "      <th></th>\n",
       "      <th>FL_DATE</th>\n",
       "      <th>OP_CARRIER</th>\n",
       "      <th>ORIGIN</th>\n",
       "      <th>DEST</th>\n",
       "      <th>CRS_DEP_TIME</th>\n",
       "      <th>DEP_DELAY</th>\n",
       "      <th>TAXI_OUT</th>\n",
       "      <th>WHEELS_OFF</th>\n",
       "      <th>WHEELS_ON</th>\n",
       "      <th>TAXI_IN</th>\n",
       "      <th>CRS_ARR_TIME</th>\n",
       "      <th>ARR_DELAY</th>\n",
       "      <th>CRS_ELAPSED_TIME</th>\n",
       "      <th>ACTUAL_ELAPSED_TIME</th>\n",
       "      <th>AIR_TIME</th>\n",
       "      <th>DISTANCE</th>\n",
       "    </tr>\n",
       "  </thead>\n",
       "  <tbody>\n",
       "    <tr>\n",
       "      <th>1168</th>\n",
       "      <td>2018-01-01</td>\n",
       "      <td>United Airlines</td>\n",
       "      <td>San Francisco</td>\n",
       "      <td>San Diego</td>\n",
       "      <td>729</td>\n",
       "      <td>-11.0</td>\n",
       "      <td>17.0</td>\n",
       "      <td>735.0</td>\n",
       "      <td>1124.0</td>\n",
       "      <td>3.0</td>\n",
       "      <td>903</td>\n",
       "      <td>NaN</td>\n",
       "      <td>94.0</td>\n",
       "      <td>NaN</td>\n",
       "      <td>NaN</td>\n",
       "      <td>447.0</td>\n",
       "    </tr>\n",
       "    <tr>\n",
       "      <th>1638</th>\n",
       "      <td>2018-01-01</td>\n",
       "      <td>Alaska Airlines</td>\n",
       "      <td>Petersburg</td>\n",
       "      <td>Wrangell</td>\n",
       "      <td>1514</td>\n",
       "      <td>72.0</td>\n",
       "      <td>20.0</td>\n",
       "      <td>1646.0</td>\n",
       "      <td>NaN</td>\n",
       "      <td>NaN</td>\n",
       "      <td>1538</td>\n",
       "      <td>NaN</td>\n",
       "      <td>24.0</td>\n",
       "      <td>NaN</td>\n",
       "      <td>NaN</td>\n",
       "      <td>31.0</td>\n",
       "    </tr>\n",
       "    <tr>\n",
       "      <th>1643</th>\n",
       "      <td>2018-01-01</td>\n",
       "      <td>Alaska Airlines</td>\n",
       "      <td>Ketchikan</td>\n",
       "      <td>Wrangell</td>\n",
       "      <td>925</td>\n",
       "      <td>-7.0</td>\n",
       "      <td>26.0</td>\n",
       "      <td>944.0</td>\n",
       "      <td>NaN</td>\n",
       "      <td>NaN</td>\n",
       "      <td>1011</td>\n",
       "      <td>NaN</td>\n",
       "      <td>46.0</td>\n",
       "      <td>NaN</td>\n",
       "      <td>NaN</td>\n",
       "      <td>82.0</td>\n",
       "    </tr>\n",
       "    <tr>\n",
       "      <th>1683</th>\n",
       "      <td>2018-01-01</td>\n",
       "      <td>Alaska Airlines</td>\n",
       "      <td>Seattle</td>\n",
       "      <td>San Diego</td>\n",
       "      <td>550</td>\n",
       "      <td>-6.0</td>\n",
       "      <td>18.0</td>\n",
       "      <td>602.0</td>\n",
       "      <td>1046.0</td>\n",
       "      <td>3.0</td>\n",
       "      <td>840</td>\n",
       "      <td>NaN</td>\n",
       "      <td>170.0</td>\n",
       "      <td>NaN</td>\n",
       "      <td>NaN</td>\n",
       "      <td>1050.0</td>\n",
       "    </tr>\n",
       "    <tr>\n",
       "      <th>1850</th>\n",
       "      <td>2018-01-01</td>\n",
       "      <td>Alaska Airlines</td>\n",
       "      <td>Seattle</td>\n",
       "      <td>San Diego</td>\n",
       "      <td>725</td>\n",
       "      <td>-3.0</td>\n",
       "      <td>16.0</td>\n",
       "      <td>738.0</td>\n",
       "      <td>1216.0</td>\n",
       "      <td>3.0</td>\n",
       "      <td>1017</td>\n",
       "      <td>NaN</td>\n",
       "      <td>172.0</td>\n",
       "      <td>NaN</td>\n",
       "      <td>NaN</td>\n",
       "      <td>1050.0</td>\n",
       "    </tr>\n",
       "  </tbody>\n",
       "</table>\n",
       "</div>"
      ],
      "text/plain": [
       "         FL_DATE       OP_CARRIER         ORIGIN       DEST  CRS_DEP_TIME  \\\n",
       "1168  2018-01-01  United Airlines  San Francisco  San Diego           729   \n",
       "1638  2018-01-01  Alaska Airlines     Petersburg   Wrangell          1514   \n",
       "1643  2018-01-01  Alaska Airlines      Ketchikan   Wrangell           925   \n",
       "1683  2018-01-01  Alaska Airlines        Seattle  San Diego           550   \n",
       "1850  2018-01-01  Alaska Airlines        Seattle  San Diego           725   \n",
       "\n",
       "      DEP_DELAY  TAXI_OUT  WHEELS_OFF  WHEELS_ON  TAXI_IN  CRS_ARR_TIME  \\\n",
       "1168      -11.0      17.0       735.0     1124.0      3.0           903   \n",
       "1638       72.0      20.0      1646.0        NaN      NaN          1538   \n",
       "1643       -7.0      26.0       944.0        NaN      NaN          1011   \n",
       "1683       -6.0      18.0       602.0     1046.0      3.0           840   \n",
       "1850       -3.0      16.0       738.0     1216.0      3.0          1017   \n",
       "\n",
       "      ARR_DELAY  CRS_ELAPSED_TIME  ACTUAL_ELAPSED_TIME  AIR_TIME  DISTANCE  \n",
       "1168        NaN              94.0                  NaN       NaN     447.0  \n",
       "1638        NaN              24.0                  NaN       NaN      31.0  \n",
       "1643        NaN              46.0                  NaN       NaN      82.0  \n",
       "1683        NaN             170.0                  NaN       NaN    1050.0  \n",
       "1850        NaN             172.0                  NaN       NaN    1050.0  "
      ]
     },
     "execution_count": 26,
     "metadata": {},
     "output_type": "execute_result"
    }
   ],
   "source": [
    "df_NaN = df1.loc[df1.isnull().any(axis=1)]\n",
    "print(df_NaN.shape)\n",
    "df_NaN.head()"
   ]
  },
  {
   "cell_type": "markdown",
   "id": "aa377b96",
   "metadata": {},
   "source": [
    "There are a total of 25,045 rows with missing values out of 7,096,862 rows of data. This represents:\n",
    "\n"
   ]
  },
  {
   "cell_type": "code",
   "execution_count": 27,
   "id": "97bf35c1",
   "metadata": {},
   "outputs": [
    {
     "data": {
      "text/plain": [
       "0.352902451816028"
      ]
     },
     "execution_count": 27,
     "metadata": {},
     "output_type": "execute_result"
    }
   ],
   "source": [
    "(len(df_NaN)/len(df1))*100"
   ]
  },
  {
   "cell_type": "markdown",
   "id": "db3d0fdc",
   "metadata": {},
   "source": [
    "Percentage of rows with at least 1 NaN value: 0.352902451816028"
   ]
  },
  {
   "cell_type": "code",
   "execution_count": 28,
   "id": "32016d7a",
   "metadata": {},
   "outputs": [],
   "source": [
    "df1.dropna(inplace = True)"
   ]
  },
  {
   "cell_type": "code",
   "execution_count": 29,
   "id": "b2c2d1c3",
   "metadata": {},
   "outputs": [
    {
     "name": "stdout",
     "output_type": "stream",
     "text": [
      "(7071817, 16)\n"
     ]
    },
    {
     "data": {
      "text/plain": [
       "FL_DATE                0\n",
       "OP_CARRIER             0\n",
       "ORIGIN                 0\n",
       "DEST                   0\n",
       "CRS_DEP_TIME           0\n",
       "DEP_DELAY              0\n",
       "TAXI_OUT               0\n",
       "WHEELS_OFF             0\n",
       "WHEELS_ON              0\n",
       "TAXI_IN                0\n",
       "CRS_ARR_TIME           0\n",
       "ARR_DELAY              0\n",
       "CRS_ELAPSED_TIME       0\n",
       "ACTUAL_ELAPSED_TIME    0\n",
       "AIR_TIME               0\n",
       "DISTANCE               0\n",
       "dtype: int64"
      ]
     },
     "execution_count": 29,
     "metadata": {},
     "output_type": "execute_result"
    }
   ],
   "source": [
    "print(df1.shape)\n",
    "df1.isna().sum()"
   ]
  },
  {
   "cell_type": "code",
   "execution_count": 30,
   "id": "0242ec4a",
   "metadata": {},
   "outputs": [
    {
     "data": {
      "text/html": [
       "<div>\n",
       "<style scoped>\n",
       "    .dataframe tbody tr th:only-of-type {\n",
       "        vertical-align: middle;\n",
       "    }\n",
       "\n",
       "    .dataframe tbody tr th {\n",
       "        vertical-align: top;\n",
       "    }\n",
       "\n",
       "    .dataframe thead th {\n",
       "        text-align: right;\n",
       "    }\n",
       "</style>\n",
       "<table border=\"1\" class=\"dataframe\">\n",
       "  <thead>\n",
       "    <tr style=\"text-align: right;\">\n",
       "      <th></th>\n",
       "      <th>FL_DATE</th>\n",
       "      <th>OP_CARRIER</th>\n",
       "      <th>ORIGIN</th>\n",
       "      <th>DEST</th>\n",
       "      <th>CRS_DEP_TIME</th>\n",
       "      <th>DEP_DELAY</th>\n",
       "      <th>TAXI_OUT</th>\n",
       "      <th>WHEELS_OFF</th>\n",
       "      <th>WHEELS_ON</th>\n",
       "      <th>TAXI_IN</th>\n",
       "      <th>CRS_ARR_TIME</th>\n",
       "      <th>ARR_DELAY</th>\n",
       "      <th>CRS_ELAPSED_TIME</th>\n",
       "      <th>ACTUAL_ELAPSED_TIME</th>\n",
       "      <th>AIR_TIME</th>\n",
       "      <th>DISTANCE</th>\n",
       "    </tr>\n",
       "  </thead>\n",
       "  <tbody>\n",
       "    <tr>\n",
       "      <th>0</th>\n",
       "      <td>2018-01-01</td>\n",
       "      <td>United Airlines</td>\n",
       "      <td>Newark</td>\n",
       "      <td>Denver</td>\n",
       "      <td>1517</td>\n",
       "      <td>-5.0</td>\n",
       "      <td>15.0</td>\n",
       "      <td>1527.0</td>\n",
       "      <td>1712.0</td>\n",
       "      <td>10.0</td>\n",
       "      <td>1745</td>\n",
       "      <td>-23.0</td>\n",
       "      <td>268.0</td>\n",
       "      <td>250.0</td>\n",
       "      <td>225.0</td>\n",
       "      <td>1605.0</td>\n",
       "    </tr>\n",
       "    <tr>\n",
       "      <th>1</th>\n",
       "      <td>2018-01-01</td>\n",
       "      <td>United Airlines</td>\n",
       "      <td>Las Vegas</td>\n",
       "      <td>San Francisco</td>\n",
       "      <td>1115</td>\n",
       "      <td>-8.0</td>\n",
       "      <td>11.0</td>\n",
       "      <td>1118.0</td>\n",
       "      <td>1223.0</td>\n",
       "      <td>7.0</td>\n",
       "      <td>1254</td>\n",
       "      <td>-24.0</td>\n",
       "      <td>99.0</td>\n",
       "      <td>83.0</td>\n",
       "      <td>65.0</td>\n",
       "      <td>414.0</td>\n",
       "    </tr>\n",
       "    <tr>\n",
       "      <th>2</th>\n",
       "      <td>2018-01-01</td>\n",
       "      <td>United Airlines</td>\n",
       "      <td>Santa Ana</td>\n",
       "      <td>Denver</td>\n",
       "      <td>1335</td>\n",
       "      <td>-5.0</td>\n",
       "      <td>15.0</td>\n",
       "      <td>1345.0</td>\n",
       "      <td>1631.0</td>\n",
       "      <td>5.0</td>\n",
       "      <td>1649</td>\n",
       "      <td>-13.0</td>\n",
       "      <td>134.0</td>\n",
       "      <td>126.0</td>\n",
       "      <td>106.0</td>\n",
       "      <td>846.0</td>\n",
       "    </tr>\n",
       "    <tr>\n",
       "      <th>3</th>\n",
       "      <td>2018-01-01</td>\n",
       "      <td>United Airlines</td>\n",
       "      <td>Fort Myers</td>\n",
       "      <td>Chicago</td>\n",
       "      <td>1546</td>\n",
       "      <td>6.0</td>\n",
       "      <td>19.0</td>\n",
       "      <td>1611.0</td>\n",
       "      <td>1748.0</td>\n",
       "      <td>6.0</td>\n",
       "      <td>1756</td>\n",
       "      <td>-2.0</td>\n",
       "      <td>190.0</td>\n",
       "      <td>182.0</td>\n",
       "      <td>157.0</td>\n",
       "      <td>1120.0</td>\n",
       "    </tr>\n",
       "    <tr>\n",
       "      <th>4</th>\n",
       "      <td>2018-01-01</td>\n",
       "      <td>United Airlines</td>\n",
       "      <td>Chicago</td>\n",
       "      <td>Albany</td>\n",
       "      <td>630</td>\n",
       "      <td>20.0</td>\n",
       "      <td>13.0</td>\n",
       "      <td>703.0</td>\n",
       "      <td>926.0</td>\n",
       "      <td>10.0</td>\n",
       "      <td>922</td>\n",
       "      <td>14.0</td>\n",
       "      <td>112.0</td>\n",
       "      <td>106.0</td>\n",
       "      <td>83.0</td>\n",
       "      <td>723.0</td>\n",
       "    </tr>\n",
       "  </tbody>\n",
       "</table>\n",
       "</div>"
      ],
      "text/plain": [
       "      FL_DATE       OP_CARRIER      ORIGIN           DEST  CRS_DEP_TIME  \\\n",
       "0  2018-01-01  United Airlines      Newark         Denver          1517   \n",
       "1  2018-01-01  United Airlines   Las Vegas  San Francisco          1115   \n",
       "2  2018-01-01  United Airlines   Santa Ana         Denver          1335   \n",
       "3  2018-01-01  United Airlines  Fort Myers        Chicago          1546   \n",
       "4  2018-01-01  United Airlines     Chicago         Albany           630   \n",
       "\n",
       "   DEP_DELAY  TAXI_OUT  WHEELS_OFF  WHEELS_ON  TAXI_IN  CRS_ARR_TIME  \\\n",
       "0       -5.0      15.0      1527.0     1712.0     10.0          1745   \n",
       "1       -8.0      11.0      1118.0     1223.0      7.0          1254   \n",
       "2       -5.0      15.0      1345.0     1631.0      5.0          1649   \n",
       "3        6.0      19.0      1611.0     1748.0      6.0          1756   \n",
       "4       20.0      13.0       703.0      926.0     10.0           922   \n",
       "\n",
       "   ARR_DELAY  CRS_ELAPSED_TIME  ACTUAL_ELAPSED_TIME  AIR_TIME  DISTANCE  \n",
       "0      -23.0             268.0                250.0     225.0    1605.0  \n",
       "1      -24.0              99.0                 83.0      65.0     414.0  \n",
       "2      -13.0             134.0                126.0     106.0     846.0  \n",
       "3       -2.0             190.0                182.0     157.0    1120.0  \n",
       "4       14.0             112.0                106.0      83.0     723.0  "
      ]
     },
     "execution_count": 30,
     "metadata": {},
     "output_type": "execute_result"
    }
   ],
   "source": [
    "df1.head()"
   ]
  },
  {
   "cell_type": "markdown",
   "id": "ea672cb6",
   "metadata": {},
   "source": [
    "Time-Related Columns  \n",
    "\n",
    "Time is normally a categorical and having it in the current format will give us too many columns when the hot encode is applied to them, therefore I will split the time into 4 quarters of the days meaning of 6 hours each."
   ]
  },
  {
   "cell_type": "code",
   "execution_count": 31,
   "id": "5a658032",
   "metadata": {},
   "outputs": [],
   "source": [
    "df1['CRS_DEP_TIME'] = np.ceil(df1['CRS_DEP_TIME']/600).apply(int)\n",
    "df1['WHEELS_OFF'] = np.ceil(df1['WHEELS_OFF']/600).apply(int) \n",
    "df1['WHEELS_ON'] = np.ceil(df1['WHEELS_ON']/600).apply(int)\n",
    "df1['CRS_ARR_TIME'] = np.ceil(df1['CRS_ARR_TIME']/600).apply(int)"
   ]
  },
  {
   "cell_type": "markdown",
   "id": "4bc5d995",
   "metadata": {},
   "source": [
    "example for wat happened above 'CRS_DEP_TIME' column from a format of HHMM (e.g. 0845) to an integer format of the hour of the day (e.g. 9)."
   ]
  },
  {
   "cell_type": "code",
   "execution_count": 32,
   "id": "24199e17",
   "metadata": {},
   "outputs": [
    {
     "data": {
      "text/html": [
       "<div>\n",
       "<style scoped>\n",
       "    .dataframe tbody tr th:only-of-type {\n",
       "        vertical-align: middle;\n",
       "    }\n",
       "\n",
       "    .dataframe tbody tr th {\n",
       "        vertical-align: top;\n",
       "    }\n",
       "\n",
       "    .dataframe thead th {\n",
       "        text-align: right;\n",
       "    }\n",
       "</style>\n",
       "<table border=\"1\" class=\"dataframe\">\n",
       "  <thead>\n",
       "    <tr style=\"text-align: right;\">\n",
       "      <th></th>\n",
       "      <th>FL_DATE</th>\n",
       "      <th>OP_CARRIER</th>\n",
       "      <th>ORIGIN</th>\n",
       "      <th>DEST</th>\n",
       "      <th>CRS_DEP_TIME</th>\n",
       "      <th>DEP_DELAY</th>\n",
       "      <th>TAXI_OUT</th>\n",
       "      <th>WHEELS_OFF</th>\n",
       "      <th>WHEELS_ON</th>\n",
       "      <th>TAXI_IN</th>\n",
       "      <th>CRS_ARR_TIME</th>\n",
       "      <th>ARR_DELAY</th>\n",
       "      <th>CRS_ELAPSED_TIME</th>\n",
       "      <th>ACTUAL_ELAPSED_TIME</th>\n",
       "      <th>AIR_TIME</th>\n",
       "      <th>DISTANCE</th>\n",
       "    </tr>\n",
       "  </thead>\n",
       "  <tbody>\n",
       "    <tr>\n",
       "      <th>0</th>\n",
       "      <td>2018-01-01</td>\n",
       "      <td>United Airlines</td>\n",
       "      <td>Newark</td>\n",
       "      <td>Denver</td>\n",
       "      <td>3</td>\n",
       "      <td>-5.0</td>\n",
       "      <td>15.0</td>\n",
       "      <td>3</td>\n",
       "      <td>3</td>\n",
       "      <td>10.0</td>\n",
       "      <td>3</td>\n",
       "      <td>-23.0</td>\n",
       "      <td>268.0</td>\n",
       "      <td>250.0</td>\n",
       "      <td>225.0</td>\n",
       "      <td>1605.0</td>\n",
       "    </tr>\n",
       "    <tr>\n",
       "      <th>1</th>\n",
       "      <td>2018-01-01</td>\n",
       "      <td>United Airlines</td>\n",
       "      <td>Las Vegas</td>\n",
       "      <td>San Francisco</td>\n",
       "      <td>2</td>\n",
       "      <td>-8.0</td>\n",
       "      <td>11.0</td>\n",
       "      <td>2</td>\n",
       "      <td>3</td>\n",
       "      <td>7.0</td>\n",
       "      <td>3</td>\n",
       "      <td>-24.0</td>\n",
       "      <td>99.0</td>\n",
       "      <td>83.0</td>\n",
       "      <td>65.0</td>\n",
       "      <td>414.0</td>\n",
       "    </tr>\n",
       "    <tr>\n",
       "      <th>2</th>\n",
       "      <td>2018-01-01</td>\n",
       "      <td>United Airlines</td>\n",
       "      <td>Santa Ana</td>\n",
       "      <td>Denver</td>\n",
       "      <td>3</td>\n",
       "      <td>-5.0</td>\n",
       "      <td>15.0</td>\n",
       "      <td>3</td>\n",
       "      <td>3</td>\n",
       "      <td>5.0</td>\n",
       "      <td>3</td>\n",
       "      <td>-13.0</td>\n",
       "      <td>134.0</td>\n",
       "      <td>126.0</td>\n",
       "      <td>106.0</td>\n",
       "      <td>846.0</td>\n",
       "    </tr>\n",
       "  </tbody>\n",
       "</table>\n",
       "</div>"
      ],
      "text/plain": [
       "      FL_DATE       OP_CARRIER     ORIGIN           DEST  CRS_DEP_TIME  \\\n",
       "0  2018-01-01  United Airlines     Newark         Denver             3   \n",
       "1  2018-01-01  United Airlines  Las Vegas  San Francisco             2   \n",
       "2  2018-01-01  United Airlines  Santa Ana         Denver             3   \n",
       "\n",
       "   DEP_DELAY  TAXI_OUT  WHEELS_OFF  WHEELS_ON  TAXI_IN  CRS_ARR_TIME  \\\n",
       "0       -5.0      15.0           3          3     10.0             3   \n",
       "1       -8.0      11.0           2          3      7.0             3   \n",
       "2       -5.0      15.0           3          3      5.0             3   \n",
       "\n",
       "   ARR_DELAY  CRS_ELAPSED_TIME  ACTUAL_ELAPSED_TIME  AIR_TIME  DISTANCE  \n",
       "0      -23.0             268.0                250.0     225.0    1605.0  \n",
       "1      -24.0              99.0                 83.0      65.0     414.0  \n",
       "2      -13.0             134.0                126.0     106.0     846.0  "
      ]
     },
     "execution_count": 32,
     "metadata": {},
     "output_type": "execute_result"
    }
   ],
   "source": [
    "df1.head(3)"
   ]
  },
  {
   "cell_type": "markdown",
   "id": "a982dca0",
   "metadata": {},
   "source": [
    "## Feature Extraction"
   ]
  },
  {
   "cell_type": "code",
   "execution_count": 33,
   "id": "1f85c7b1",
   "metadata": {},
   "outputs": [],
   "source": [
    "df1['DAY'] = pd.DatetimeIndex(df1['FL_DATE']).day\n",
    "df1['MONTH'] = pd.DatetimeIndex(df1['FL_DATE']).month\n"
   ]
  },
  {
   "cell_type": "code",
   "execution_count": 34,
   "id": "502adfff",
   "metadata": {},
   "outputs": [],
   "source": [
    "import calendar\n",
    "df1['MONTH_AB'] = df1['MONTH'].apply(lambda x: calendar.month_abbr[x])"
   ]
  },
  {
   "cell_type": "markdown",
   "id": "603e3f1e",
   "metadata": {},
   "source": [
    "### Binary Classification"
   ]
  },
  {
   "cell_type": "markdown",
   "id": "8dfb5dca",
   "metadata": {},
   "source": [
    "As I mentioned at the beginning of this document, this is a binary classification, which means that I will run my models with the target being a column that I will engineer called FLIGHT_STATUS. In this column there will be only two values (hence the name binary), a 0 for flights that arrive either earlier or on time(+ 5min), and a 1 for flights that are delayed for more than 5 minutes."
   ]
  },
  {
   "cell_type": "code",
   "execution_count": 52,
   "id": "948ef301",
   "metadata": {},
   "outputs": [
    {
     "data": {
      "text/plain": [
       "count   7071817.00\n",
       "mean          5.06\n",
       "std          46.94\n",
       "min        -120.00\n",
       "25%         -14.00\n",
       "50%          -6.00\n",
       "75%           8.00\n",
       "max        2692.00\n",
       "Name: ARR_DELAY, dtype: float64"
      ]
     },
     "execution_count": 52,
     "metadata": {},
     "output_type": "execute_result"
    }
   ],
   "source": [
    "pd.options.display.float_format = '{:.2f}'.format\n",
    "df1['ARR_DELAY'].describe()"
   ]
  },
  {
   "cell_type": "code",
   "execution_count": 42,
   "id": "4d64cb5e",
   "metadata": {},
   "outputs": [],
   "source": [
    "df1['FLIGHT_STATUS'] = df1['ARR_DELAY'].apply(lambda x : 0 if x <= 5 else 1)"
   ]
  },
  {
   "cell_type": "code",
   "execution_count": 55,
   "id": "13162cdc",
   "metadata": {},
   "outputs": [
    {
     "data": {
      "text/plain": [
       "0   0.72\n",
       "1   0.28\n",
       "Name: FLIGHT_STATUS, dtype: float64"
      ]
     },
     "execution_count": 55,
     "metadata": {},
     "output_type": "execute_result"
    }
   ],
   "source": [
    "df1.FLIGHT_STATUS.value_counts(normalize=True)"
   ]
  },
  {
   "cell_type": "code",
   "execution_count": 56,
   "id": "de38e9f8",
   "metadata": {},
   "outputs": [],
   "source": [
    "df1.to_csv('df1.csv')"
   ]
  },
  {
   "cell_type": "code",
   "execution_count": 57,
   "id": "c36dd77d",
   "metadata": {},
   "outputs": [
    {
     "data": {
      "text/plain": [
       "FL_DATE                0\n",
       "OP_CARRIER             0\n",
       "ORIGIN                 0\n",
       "DEST                   0\n",
       "CRS_DEP_TIME           0\n",
       "DEP_DELAY              0\n",
       "TAXI_OUT               0\n",
       "WHEELS_OFF             0\n",
       "WHEELS_ON              0\n",
       "TAXI_IN                0\n",
       "CRS_ARR_TIME           0\n",
       "ARR_DELAY              0\n",
       "CRS_ELAPSED_TIME       0\n",
       "ACTUAL_ELAPSED_TIME    0\n",
       "AIR_TIME               0\n",
       "DISTANCE               0\n",
       "DAY                    0\n",
       "MONTH                  0\n",
       "MONTH_AB               0\n",
       "FLIGHT_STATUS          0\n",
       "dtype: int64"
      ]
     },
     "execution_count": 57,
     "metadata": {},
     "output_type": "execute_result"
    }
   ],
   "source": [
    "df1.isna().sum()\n"
   ]
  }
 ],
 "metadata": {
  "kernelspec": {
   "display_name": "Python 3 (ipykernel)",
   "language": "python",
   "name": "python3"
  },
  "language_info": {
   "codemirror_mode": {
    "name": "ipython",
    "version": 3
   },
   "file_extension": ".py",
   "mimetype": "text/x-python",
   "name": "python",
   "nbconvert_exporter": "python",
   "pygments_lexer": "ipython3",
   "version": "3.9.12"
  }
 },
 "nbformat": 4,
 "nbformat_minor": 5
}
